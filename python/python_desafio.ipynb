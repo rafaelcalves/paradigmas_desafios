{
  "nbformat": 4,
  "nbformat_minor": 0,
  "metadata": {
    "kernelspec": {
      "display_name": "Python 3 (system-wide)",
      "language": "python",
      "metadata": {
        "cocalc": {
          "description": "Python 3 programming language",
          "priority": 100,
          "url": "https://www.python.org/"
        }
      },
      "name": "python3"
    },
    "language_info": {
      "codemirror_mode": {
        "name": "ipython",
        "version": 3
      },
      "file_extension": ".py",
      "mimetype": "text/x-python",
      "name": "python",
      "nbconvert_exporter": "python",
      "pygments_lexer": "ipython3",
      "version": "3.6.9"
    },
    "colab": {
      "name": "python_desafio.ipynb",
      "provenance": []
    }
  },
  "cells": [
    {
      "cell_type": "markdown",
      "metadata": {
        "collapsed": false,
        "id": "pLIVAQ2qLTbu",
        "colab_type": "text"
      },
      "source": [
        "# Linguagem 1 - Python"
      ]
    },
    {
      "cell_type": "markdown",
      "metadata": {
        "collapsed": false,
        "id": "vnkz47dzLTbw",
        "colab_type": "text"
      },
      "source": [
        "Integrantes do grupo: \n",
        "* <font color=red>**Rafael Corrêa**</font>\n",
        "* <font color=red>**Guilherme Pohlmann**</font>\n",
        "* <font color=red>**Matheus Mombach**</font>\n",
        "* <font color=red>**Nicolas Prokopetz**</font>"
      ]
    },
    {
      "cell_type": "code",
      "metadata": {
        "id": "NmMreh40LTbx",
        "colab_type": "code",
        "colab": {}
      },
      "source": [
        ""
      ],
      "execution_count": 0,
      "outputs": []
    },
    {
      "cell_type": "markdown",
      "metadata": {
        "collapsed": false,
        "id": "deQOJsBULTb2",
        "colab_type": "text"
      },
      "source": [
        "Resumo das etapas:\n",
        "1. Preparação: aprender um pouco sobre a linguagem\n",
        "2. Desafio: resolva um desafio utilizando a linguagem\n",
        "3. Desafio para outros grupos: crie um desafio (com resposta) para os outros grupos\n",
        "\n",
        "Ao final, este notebook deve ser enviado pelo Moodle."
      ]
    },
    {
      "cell_type": "markdown",
      "metadata": {
        "collapsed": false,
        "id": "8ndAB_dDLTb3",
        "colab_type": "text"
      },
      "source": [
        "***\n",
        "\n",
        "## 1. Preparação\n",
        "\n",
        "Faça o tutorial de Python a seguir: https://docs.python.org/3/tutorial/index.html. Como referência, é possível utilizar ainda a seguinte documentação: https://docs.python.org/3/. Utilize a célula abaixo para testar o código do tutorial. Logo após, verifique e entenda o funcionamento dos exemplos 1 e 2 a seguir."
      ]
    },
    {
      "cell_type": "code",
      "metadata": {
        "id": "exhM7h9cLTb4",
        "colab_type": "code",
        "colab": {}
      },
      "source": [
        "# exercite seus conhecimentos de Python aqui"
      ],
      "execution_count": 0,
      "outputs": []
    },
    {
      "cell_type": "markdown",
      "metadata": {
        "collapsed": false,
        "id": "T0nMXoF8LTb7",
        "colab_type": "text"
      },
      "source": [
        "### Exemplo 1"
      ]
    },
    {
      "cell_type": "code",
      "metadata": {
        "cocalc": {
          "outputs": {
            "0": {
              "name": "input",
              "opts": {
                "password": false,
                "prompt": "Informe um número: "
              },
              "output_type": "stream"
            }
          }
        },
        "id": "Kv9q7_XdLTb8",
        "colab_type": "code",
        "colab": {},
        "outputId": "2887966d-f9a4-430c-bbed-2c153093b40a"
      },
      "source": [
        "# este é um comentário em linha\n",
        "\n",
        "'''\n",
        "este é um bloco de comentário, entre 3 aspas simples\n",
        "'''\n",
        "\n",
        "# a partir daqui temos o controle de fluxo sequencial\n",
        "x = int(input(\"Informe um número: \"))\n",
        "if x < 0:\n",
        "    x = 0\n",
        "    print(\"Número negativo alterado para zero\")\n",
        "elif x == 0:\n",
        "    print(\"Zero\")\n",
        "elif x == 1:\n",
        "    print(\"Um\")\n",
        "else:\n",
        "    print(\"Outro\")"
      ],
      "execution_count": 0,
      "outputs": [
        {
          "output_type": "stream",
          "text": [
            "Informe um número:  "
          ],
          "name": "stdout"
        }
      ]
    },
    {
      "cell_type": "markdown",
      "metadata": {
        "collapsed": false,
        "id": "CCSVQAnsLTcC",
        "colab_type": "text"
      },
      "source": [
        "### Exemplo 2"
      ]
    },
    {
      "cell_type": "code",
      "metadata": {
        "id": "YvdUmWnNLTcC",
        "colab_type": "code",
        "colab": {}
      },
      "source": [
        "# criando uma lista de palavras\n",
        "palavras = ['casa', 'Unisinos', 'paradigmas']\n",
        "\n",
        "# usando iteração para percorrer a lista e imprimir seus elementos na tela\n",
        "for p in palavras:\n",
        "    print(f'Palavra: \"{p}\" (possui {len(p)} caracteres)')"
      ],
      "execution_count": 0,
      "outputs": []
    },
    {
      "cell_type": "markdown",
      "metadata": {
        "collapsed": false,
        "id": "4PbAKaElLTcJ",
        "colab_type": "text"
      },
      "source": [
        "***\n",
        "\n",
        "## 2. Desafio"
      ]
    },
    {
      "cell_type": "markdown",
      "metadata": {
        "collapsed": false,
        "id": "JZzUSYebLTcL",
        "colab_type": "text"
      },
      "source": [
        "### Padawan! Encontre o sabre de luz!\n",
        "\n",
        "<img src=\"https://i.imgur.com/tKiHpSN.jpg\" style=\"width: 500px;\"/>\n",
        "\n",
        "A partir de agora você é um Padawan e está morando na Jedi's Housing. A Jedi's Housing é a casa dos Padawans que estão em treinamento para se tornarem Jedis. A Jedi's Housing é dividida em 6 locais, conforme mostra o mapa:\n",
        "\n",
        "<img src=\"https://i.imgur.com/hGT1NWS.jpg\" style=\"width: 500px;\"/>\n",
        "\n",
        "Durante o último treino, você acabou deixando seu sabre de luz em algum lugar da Jedi's Housing. E agora, existe a ameaça do Darth Vader estar rondando a Jedi's Housing.\n",
        "\n",
        "Para ajudar os seus colegas neste possível ataque dos Sith, você precisar encontrar o seu sabre de luz, antes que o Darth Vader o encontre!\n",
        "\n",
        "Para tanto, você deve percorrer os locais da Jedi's Housing! Utilize as direções: Norte (N), Leste (L), Sul (S) e Oeste (O) para entrar nos locais e localizar o seu sabre de luz. Lembre-se que você está agora na entrada! "
      ]
    },
    {
      "cell_type": "markdown",
      "metadata": {
        "collapsed": false,
        "id": "MAT_eXlSLTcM",
        "colab_type": "text"
      },
      "source": [
        "### Instruções/regras para o desafio:\n",
        "\n",
        "Crie um programa em Python para codificar a história apresentada acima. Você pode iniciar com base em parte do programa principal apresentado abaixo.\n",
        "\n",
        "Você deverá fazer uso de:\n",
        "* tipos de dados primitivos: int, boolean (https://docs.python.org/3/reference/datamodel.html#objects-values-and-types)\n",
        "* tipos de dados compostos: strings, tuple, list, set e mapping (https://docs.python.org/3/reference/datamodel.html#objects-values-and-types)\n",
        "* controle de fluxo do tipo: sequenciamento\n",
        "* controle de fluxo do tipo: seleção (https://docs.python.org/3/reference/compound_stmts.html#the-if-statement)\n",
        "* controle de fluxo do tipo: iteração - while (https://docs.python.org/3/reference/compound_stmts.html#while)\n",
        "* controle de fluxo do tipo: abstração procedural - functions (https://docs.python.org/3/tutorial/controlflow.html#defining-functions)\n",
        "* comando de entrada de dados: input ()\n",
        "* comando de saída de dados: print (https://docs.python.org/3/library/functions.html#print)\n",
        "* comando de quebra de fluxo de iteração: break (https://docs.python.org/3/reference/simple_stmts.html#the-break-statement)\n",
        "* operador de concatenação de strings (https://docs.python.org/3/tutorial/introduction.html#strings)\n",
        "* biblioteca random para deixar randômico o local onde o sabre de luz estará em cada jogada (https://docs.python.org/3/reference/simple_stmts.html#import)\n",
        "\n",
        "Para contar o tempo dos turnos, utilizem um timer online como [este](http://timeronline.com.br)."
      ]
    },
    {
      "cell_type": "markdown",
      "metadata": {
        "collapsed": false,
        "id": "JvFVfJ0vLTcO",
        "colab_type": "text"
      },
      "source": [
        "### Código de exemplo:"
      ]
    },
    {
      "cell_type": "code",
      "metadata": {
        "id": "tNL-zPYELTcQ",
        "colab_type": "code",
        "colab": {}
      },
      "source": [
        "import random\n",
        "\n",
        "#função principal que executa o programa\n",
        "def main():\n",
        "  dirs = (0,0,0,0) #tipo de dados tuple para controlar as direções\n",
        "  \n",
        "  '''locais do Jedi's Housing\n",
        "  tipo de dados utilizado: dict (coleção do tipo dicionário com propriedades e valores)\n",
        "  ver tutorial: https://docs.python.org/3/library/stdtypes.html#typesmapping\n",
        "  '''\n",
        "  entrance = {'name': 'Entrada', 'directions': dirs, 'msg': ''}\n",
        "  livingroom = {'name': 'Sala de Estar', 'directions': dirs, 'msg': ''}\n",
        "  kitchen = {'name': 'Cozinha', 'directions': dirs, 'msg':''}\n",
        "  jedistudyroom = {'name': 'Sala de Estudos', 'directions': dirs, 'msg': ''}\n",
        "  jediboysroom = {'name': 'Dormitório dos meninos Jedi', 'directions': dirs, 'msg': ''}\n",
        "  jedigirlsroom = {'name': 'Dormitório das meninas Jedi', 'directions': dirs, 'msg': ''}\n",
        "\n",
        "  #definição das direções de cada local (N,L,S,O) conforme o mapa\n",
        "  entrance['directions'] = (0,livingroom,0,0) \n",
        "  livingroom['directions'] = (jedistudyroom,jedigirlsroom,kitchen,entrance) \n",
        "  kitchen['directions'] = (livingroom,0,0,0) \n",
        "  jedistudyroom['directions'] = (0,jediboysroom,livingroom,0) \n",
        "  jediboysroom['directions'] = (0,0,jedigirlsroom,jedistudyroom) \n",
        "  jedigirlsroom['directions'] = (jedistudyroom,0,0,livingroom) \n",
        "  \n",
        "  #definição de onde o sabre de luz pode estar\n",
        "  # tipo de dados utilizado: list\n",
        "  #https://docs.python.org/3/tutorial/introduction.html#lists\n",
        "  rooms = [livingroom,kitchen,jedistudyroom,jediboysroom,jedigirlsroom]\n",
        "  room_with_lightsaber = random.choice(rooms) #aqui estamos usando o random para mudar o local do sabre em cada jogada\n",
        "  lightsaber_found = False\n",
        "  room = entrance\n",
        "  print('Bem-vindo Padawan! Você consegue localizar onde está o seu sabre de luz?')\n",
        "  \n",
        "#executa a função main\n",
        "main()"
      ],
      "execution_count": 0,
      "outputs": []
    },
    {
      "cell_type": "markdown",
      "metadata": {
        "collapsed": false,
        "id": "RT8a15ShLTcY",
        "colab_type": "text"
      },
      "source": [
        "### Solução do grupo\n",
        "\n",
        "Desenvolva a solução do grupo na célula abaixo:"
      ]
    },
    {
      "cell_type": "code",
      "metadata": {
        "id": "LMA-aaZALTca",
        "colab_type": "code",
        "colab": {
          "base_uri": "https://localhost:8080/",
          "height": 918
        },
        "outputId": "a9fd3cf3-dd5f-4880-a21a-4d4afcd575a3"
      },
      "source": [
        "import random\n",
        "\n",
        "#função principal que executa o programa\n",
        "def main():\n",
        "  dirs = (0,0,0,0) #tipo de dados tuple para controlar as direções\n",
        "  \n",
        "  '''locais do Jedi's Housing\n",
        "  tipo de dados utilizado: dict (coleção do tipo dicionário com propriedades e valores)\n",
        "  ver tutorial: https://docs.python.org/3/library/stdtypes.html#typesmapping\n",
        "  '''\n",
        "  entrance = {'name': 'Entrada', 'directions': dirs, 'msg': ''}\n",
        "  livingroom = {'name': 'Sala de Estar', 'directions': dirs, 'msg': ''}\n",
        "  kitchen = {'name': 'Cozinha', 'directions': dirs, 'msg':''}\n",
        "  jedistudyroom = {'name': 'Sala de Estudos', 'directions': dirs, 'msg': ''}\n",
        "  jediboysroom = {'name': 'Dormitório dos meninos Jedi', 'directions': dirs, 'msg': ''}\n",
        "  jedigirlsroom = {'name': 'Dormitório das meninas Jedi', 'directions': dirs, 'msg': ''}\n",
        "\n",
        "  #definição das direções de cada local (N,L,S,O) conforme o mapa\n",
        "  entrance['directions'] = (0,livingroom,0,0) \n",
        "  livingroom['directions'] = (jedistudyroom,jedigirlsroom,kitchen,entrance) \n",
        "  kitchen['directions'] = (livingroom,0,0,0) \n",
        "  jedistudyroom['directions'] = (0,jediboysroom,livingroom,0) \n",
        "  jediboysroom['directions'] = (0,0,jedigirlsroom,jedistudyroom) \n",
        "  jedigirlsroom['directions'] = (jedistudyroom,0,0,livingroom) \n",
        "  \n",
        "  #definição de onde o sabre de luz pode estar\n",
        "  # tipo de dados utilizado: list\n",
        "  #https://docs.python.org/3/tutorial/introduction.html#lists\n",
        "  rooms = [livingroom,kitchen,jedistudyroom,jediboysroom,jedigirlsroom]\n",
        "  room_with_lightsaber = random.choice(rooms) #aqui estamos usando o random para mudar o local do sabre em cada jogada\n",
        "  lightsaber_found = False\n",
        "  room = entrance\n",
        "  print('Bem-vindo Padawan! Você consegue localizar onde está o seu sabre de luz?')\n",
        "\n",
        "  while True:\n",
        "    while not lightsaber_found:\n",
        "      roomName = room.get('name')\n",
        "      print(f'Você está em {roomName}, digite o número do cômodo que você deseja ir')\n",
        "      print('Opcões:')\n",
        "      directions = room.get('directions')\n",
        "      options = ('N', 'L', 'S', 'O')\n",
        "      i = 0\n",
        "      for direction in directions:\n",
        "        directionName = 'Não há nenhum cômodo nessa direção'\n",
        "        if direction:\n",
        "          directionName = direction.get('name')\n",
        "        option = options[i]\n",
        "        print(f' {option} - {directionName}')\n",
        "        i += 1\n",
        "\n",
        "      move = input().upper()\n",
        "      if move in options:\n",
        "        selectedDirectionIndex = options.index(move)\n",
        "        selectedDirection = directions[selectedDirectionIndex]\n",
        "        if selectedDirection:\n",
        "          room = selectedDirection\n",
        "        if room == room_with_lightsaber:\n",
        "          lightsaber_found = True\n",
        "      else:\n",
        "        print('--------------------------------------')\n",
        "        print('\\nEssa não é uma direção válida pois não leva a lugar nenhum!\\n')\n",
        "        print('--------------------------------------')\n",
        "\n",
        "    print('--------------------------------------')\n",
        "    print('\\nParabéns você achou o sabre de luz!\\n')\n",
        "    print('\\nClique Enter para jogar de novo!\\n')\n",
        "    print('--------------------------------------')\n",
        "    input()\n",
        "    lightsaber_found = False\n",
        "\n",
        "    \n",
        "#executa a função main\n",
        "main()\n"
      ],
      "execution_count": 3,
      "outputs": [
        {
          "output_type": "stream",
          "text": [
            "Bem-vindo Padawan! Você consegue localizar onde está o seu sabre de luz?\n",
            "Você está em Entrada, digite o número do cômodo que você deseja ir\n",
            "Opcões:\n",
            " N - Não há nenhum cômodo nessa direção\n",
            " L - Sala de Estar\n",
            " S - Não há nenhum cômodo nessa direção\n",
            " O - Não há nenhum cômodo nessa direção\n",
            "L\n",
            "Você está em Sala de Estar, digite o número do cômodo que você deseja ir\n",
            "Opcões:\n",
            " N - Sala de Estudos\n",
            " L - Dormitório das meninas Jedi\n",
            " S - Cozinha\n",
            " O - Entrada\n",
            "S\n",
            "--------------------------------------\n",
            "\n",
            "Parabéns você achou o sabre de luz!\n",
            "\n",
            "\n",
            "Clique Enter para jogar de novo!\n",
            "\n",
            "--------------------------------------\n"
          ],
          "name": "stdout"
        },
        {
          "output_type": "error",
          "ename": "KeyboardInterrupt",
          "evalue": "ignored",
          "traceback": [
            "\u001b[0;31m---------------------------------------------------------------------------\u001b[0m",
            "\u001b[0;31mKeyboardInterrupt\u001b[0m                         Traceback (most recent call last)",
            "\u001b[0;32m/usr/local/lib/python3.6/dist-packages/ipykernel/kernelbase.py\u001b[0m in \u001b[0;36m_input_request\u001b[0;34m(self, prompt, ident, parent, password)\u001b[0m\n\u001b[1;32m    728\u001b[0m             \u001b[0;32mtry\u001b[0m\u001b[0;34m:\u001b[0m\u001b[0;34m\u001b[0m\u001b[0;34m\u001b[0m\u001b[0m\n\u001b[0;32m--> 729\u001b[0;31m                 \u001b[0mident\u001b[0m\u001b[0;34m,\u001b[0m \u001b[0mreply\u001b[0m \u001b[0;34m=\u001b[0m \u001b[0mself\u001b[0m\u001b[0;34m.\u001b[0m\u001b[0msession\u001b[0m\u001b[0;34m.\u001b[0m\u001b[0mrecv\u001b[0m\u001b[0;34m(\u001b[0m\u001b[0mself\u001b[0m\u001b[0;34m.\u001b[0m\u001b[0mstdin_socket\u001b[0m\u001b[0;34m,\u001b[0m \u001b[0;36m0\u001b[0m\u001b[0;34m)\u001b[0m\u001b[0;34m\u001b[0m\u001b[0;34m\u001b[0m\u001b[0m\n\u001b[0m\u001b[1;32m    730\u001b[0m             \u001b[0;32mexcept\u001b[0m \u001b[0mException\u001b[0m\u001b[0;34m:\u001b[0m\u001b[0;34m\u001b[0m\u001b[0;34m\u001b[0m\u001b[0m\n",
            "\u001b[0;32m/usr/local/lib/python3.6/dist-packages/jupyter_client/session.py\u001b[0m in \u001b[0;36mrecv\u001b[0;34m(self, socket, mode, content, copy)\u001b[0m\n\u001b[1;32m    802\u001b[0m         \u001b[0;32mtry\u001b[0m\u001b[0;34m:\u001b[0m\u001b[0;34m\u001b[0m\u001b[0;34m\u001b[0m\u001b[0m\n\u001b[0;32m--> 803\u001b[0;31m             \u001b[0mmsg_list\u001b[0m \u001b[0;34m=\u001b[0m \u001b[0msocket\u001b[0m\u001b[0;34m.\u001b[0m\u001b[0mrecv_multipart\u001b[0m\u001b[0;34m(\u001b[0m\u001b[0mmode\u001b[0m\u001b[0;34m,\u001b[0m \u001b[0mcopy\u001b[0m\u001b[0;34m=\u001b[0m\u001b[0mcopy\u001b[0m\u001b[0;34m)\u001b[0m\u001b[0;34m\u001b[0m\u001b[0;34m\u001b[0m\u001b[0m\n\u001b[0m\u001b[1;32m    804\u001b[0m         \u001b[0;32mexcept\u001b[0m \u001b[0mzmq\u001b[0m\u001b[0;34m.\u001b[0m\u001b[0mZMQError\u001b[0m \u001b[0;32mas\u001b[0m \u001b[0me\u001b[0m\u001b[0;34m:\u001b[0m\u001b[0;34m\u001b[0m\u001b[0;34m\u001b[0m\u001b[0m\n",
            "\u001b[0;32m/usr/local/lib/python3.6/dist-packages/zmq/sugar/socket.py\u001b[0m in \u001b[0;36mrecv_multipart\u001b[0;34m(self, flags, copy, track)\u001b[0m\n\u001b[1;32m    474\u001b[0m         \"\"\"\n\u001b[0;32m--> 475\u001b[0;31m         \u001b[0mparts\u001b[0m \u001b[0;34m=\u001b[0m \u001b[0;34m[\u001b[0m\u001b[0mself\u001b[0m\u001b[0;34m.\u001b[0m\u001b[0mrecv\u001b[0m\u001b[0;34m(\u001b[0m\u001b[0mflags\u001b[0m\u001b[0;34m,\u001b[0m \u001b[0mcopy\u001b[0m\u001b[0;34m=\u001b[0m\u001b[0mcopy\u001b[0m\u001b[0;34m,\u001b[0m \u001b[0mtrack\u001b[0m\u001b[0;34m=\u001b[0m\u001b[0mtrack\u001b[0m\u001b[0;34m)\u001b[0m\u001b[0;34m]\u001b[0m\u001b[0;34m\u001b[0m\u001b[0;34m\u001b[0m\u001b[0m\n\u001b[0m\u001b[1;32m    476\u001b[0m         \u001b[0;31m# have first part already, only loop while more to receive\u001b[0m\u001b[0;34m\u001b[0m\u001b[0;34m\u001b[0m\u001b[0;34m\u001b[0m\u001b[0m\n",
            "\u001b[0;32mzmq/backend/cython/socket.pyx\u001b[0m in \u001b[0;36mzmq.backend.cython.socket.Socket.recv\u001b[0;34m()\u001b[0m\n",
            "\u001b[0;32mzmq/backend/cython/socket.pyx\u001b[0m in \u001b[0;36mzmq.backend.cython.socket.Socket.recv\u001b[0;34m()\u001b[0m\n",
            "\u001b[0;32mzmq/backend/cython/socket.pyx\u001b[0m in \u001b[0;36mzmq.backend.cython.socket._recv_copy\u001b[0;34m()\u001b[0m\n",
            "\u001b[0;32m/usr/local/lib/python3.6/dist-packages/zmq/backend/cython/checkrc.pxd\u001b[0m in \u001b[0;36mzmq.backend.cython.checkrc._check_rc\u001b[0;34m()\u001b[0m\n",
            "\u001b[0;31mKeyboardInterrupt\u001b[0m: ",
            "\nDuring handling of the above exception, another exception occurred:\n",
            "\u001b[0;31mKeyboardInterrupt\u001b[0m                         Traceback (most recent call last)",
            "\u001b[0;32m<ipython-input-3-593db3022533>\u001b[0m in \u001b[0;36m<module>\u001b[0;34m()\u001b[0m\n\u001b[1;32m     71\u001b[0m \u001b[0;34m\u001b[0m\u001b[0m\n\u001b[1;32m     72\u001b[0m \u001b[0;31m#executa a função main\u001b[0m\u001b[0;34m\u001b[0m\u001b[0;34m\u001b[0m\u001b[0;34m\u001b[0m\u001b[0m\n\u001b[0;32m---> 73\u001b[0;31m \u001b[0mmain\u001b[0m\u001b[0;34m(\u001b[0m\u001b[0;34m)\u001b[0m\u001b[0;34m\u001b[0m\u001b[0;34m\u001b[0m\u001b[0m\n\u001b[0m",
            "\u001b[0;32m<ipython-input-3-593db3022533>\u001b[0m in \u001b[0;36mmain\u001b[0;34m()\u001b[0m\n\u001b[1;32m     66\u001b[0m     \u001b[0mprint\u001b[0m\u001b[0;34m(\u001b[0m\u001b[0;34m'\\nClique Enter para jogar de novo!\\n'\u001b[0m\u001b[0;34m)\u001b[0m\u001b[0;34m\u001b[0m\u001b[0;34m\u001b[0m\u001b[0m\n\u001b[1;32m     67\u001b[0m     \u001b[0mprint\u001b[0m\u001b[0;34m(\u001b[0m\u001b[0;34m'--------------------------------------'\u001b[0m\u001b[0;34m)\u001b[0m\u001b[0;34m\u001b[0m\u001b[0;34m\u001b[0m\u001b[0m\n\u001b[0;32m---> 68\u001b[0;31m     \u001b[0minput\u001b[0m\u001b[0;34m(\u001b[0m\u001b[0;34m)\u001b[0m\u001b[0;34m\u001b[0m\u001b[0;34m\u001b[0m\u001b[0m\n\u001b[0m\u001b[1;32m     69\u001b[0m     \u001b[0mlightsaber_found\u001b[0m \u001b[0;34m=\u001b[0m \u001b[0;32mFalse\u001b[0m\u001b[0;34m\u001b[0m\u001b[0;34m\u001b[0m\u001b[0m\n\u001b[1;32m     70\u001b[0m \u001b[0;34m\u001b[0m\u001b[0m\n",
            "\u001b[0;32m/usr/local/lib/python3.6/dist-packages/ipykernel/kernelbase.py\u001b[0m in \u001b[0;36mraw_input\u001b[0;34m(self, prompt)\u001b[0m\n\u001b[1;32m    702\u001b[0m             \u001b[0mself\u001b[0m\u001b[0;34m.\u001b[0m\u001b[0m_parent_ident\u001b[0m\u001b[0;34m,\u001b[0m\u001b[0;34m\u001b[0m\u001b[0;34m\u001b[0m\u001b[0m\n\u001b[1;32m    703\u001b[0m             \u001b[0mself\u001b[0m\u001b[0;34m.\u001b[0m\u001b[0m_parent_header\u001b[0m\u001b[0;34m,\u001b[0m\u001b[0;34m\u001b[0m\u001b[0;34m\u001b[0m\u001b[0m\n\u001b[0;32m--> 704\u001b[0;31m             \u001b[0mpassword\u001b[0m\u001b[0;34m=\u001b[0m\u001b[0;32mFalse\u001b[0m\u001b[0;34m,\u001b[0m\u001b[0;34m\u001b[0m\u001b[0;34m\u001b[0m\u001b[0m\n\u001b[0m\u001b[1;32m    705\u001b[0m         )\n\u001b[1;32m    706\u001b[0m \u001b[0;34m\u001b[0m\u001b[0m\n",
            "\u001b[0;32m/usr/local/lib/python3.6/dist-packages/ipykernel/kernelbase.py\u001b[0m in \u001b[0;36m_input_request\u001b[0;34m(self, prompt, ident, parent, password)\u001b[0m\n\u001b[1;32m    732\u001b[0m             \u001b[0;32mexcept\u001b[0m \u001b[0mKeyboardInterrupt\u001b[0m\u001b[0;34m:\u001b[0m\u001b[0;34m\u001b[0m\u001b[0;34m\u001b[0m\u001b[0m\n\u001b[1;32m    733\u001b[0m                 \u001b[0;31m# re-raise KeyboardInterrupt, to truncate traceback\u001b[0m\u001b[0;34m\u001b[0m\u001b[0;34m\u001b[0m\u001b[0;34m\u001b[0m\u001b[0m\n\u001b[0;32m--> 734\u001b[0;31m                 \u001b[0;32mraise\u001b[0m \u001b[0mKeyboardInterrupt\u001b[0m\u001b[0;34m\u001b[0m\u001b[0;34m\u001b[0m\u001b[0m\n\u001b[0m\u001b[1;32m    735\u001b[0m             \u001b[0;32melse\u001b[0m\u001b[0;34m:\u001b[0m\u001b[0;34m\u001b[0m\u001b[0;34m\u001b[0m\u001b[0m\n\u001b[1;32m    736\u001b[0m                 \u001b[0;32mbreak\u001b[0m\u001b[0;34m\u001b[0m\u001b[0;34m\u001b[0m\u001b[0m\n",
            "\u001b[0;31mKeyboardInterrupt\u001b[0m: "
          ]
        }
      ]
    },
    {
      "cell_type": "markdown",
      "metadata": {
        "collapsed": false,
        "id": "ON3N4aZdLTce",
        "colab_type": "text"
      },
      "source": [
        "***\n",
        "\n",
        "## 3. Desafio para os outros grupos\n",
        "\n",
        "Tema da história: **filmes de ficção**. \n",
        "\n",
        "Cada grupo deve se basear em um filme e em um cenário (como no desafio do professor) e propor um desafio para os outros grupos (no estilo _beginners_!). \n",
        "\n",
        "Ao final, os desafios devem ser postados no fórum para os outros grupos poderem se desafiar durante a semana (cada desafio deve ser escolhido por no máximo 01 grupo). Para isto, crie um novo tópico no fórum da aula de hoje com o enunciado do desafio. Não esqueça de incluir o título do desafio!"
      ]
    },
    {
      "cell_type": "markdown",
      "metadata": {
        "collapsed": false,
        "id": "aob2_sW7LTcf",
        "colab_type": "text"
      },
      "source": [
        "### Descrição do desafio"
      ]
    },
    {
      "cell_type": "markdown",
      "metadata": {
        "collapsed": false,
        "id": "iwc74yCELTcg",
        "colab_type": "text"
      },
      "source": [
        "\n",
        "## DESAFIO O DISCURSO DO REI\n",
        "\n",
        "O Rei faz um discurso e cabe ao nosso programa rankear o número de palavras utilizadas por ordem de ocorrências. Como nosso rei sofre de gagueira, precisamos descontar palavras que sejam diretamente repetidas para que não tenhamos um falso verdadeiro no nosso rank.\n",
        "\n",
        "O programa deve ter uma entrada de texto para o discurso do rei e, como saída, deve ser apresentado o rank juntamente com o número de ocorrências de cada palavra."
      ]
    },
    {
      "cell_type": "markdown",
      "metadata": {
        "collapsed": false,
        "id": "K9LcU9d1LTcg",
        "colab_type": "text"
      },
      "source": [
        "### Solução do desafio"
      ]
    },
    {
      "cell_type": "code",
      "metadata": {
        "cocalc": {
          "outputs": {
            "0": {
              "name": "input",
              "opts": {
                "password": false,
                "prompt": "Insira do discurso do Rei: "
              },
              "output_type": "stream",
              "value": "TESTE TESTE A B B A TESTE A"
            }
          }
        },
        "id": "vkZ937MdLTch",
        "colab_type": "code",
        "colab": {
          "base_uri": "https://localhost:8080/",
          "height": 527
        },
        "outputId": "e662846e-c36d-40f2-8bf0-b6281ae1d424"
      },
      "source": [
        "speech = input(\"Insira do discurso do Rei: \")\n",
        "words = speech.split()\n",
        "result = dict()\n",
        "lastWord = \"\"\n",
        "for word in words:\n",
        "    if(word != lastWord):\n",
        "        result[word] = result.get(word, 0) + 1\n",
        "    lastWord = word\n",
        "\n",
        "sortedResult = sorted(x.items(), key=lambda kv: kv[1])\n",
        "for word, occurences in result.items():\n",
        "    print(word + \" : \" + str(occurences))"
      ],
      "execution_count": 1,
      "outputs": [
        {
          "output_type": "error",
          "ename": "KeyboardInterrupt",
          "evalue": "ignored",
          "traceback": [
            "\u001b[0;31m---------------------------------------------------------------------------\u001b[0m",
            "\u001b[0;31mKeyboardInterrupt\u001b[0m                         Traceback (most recent call last)",
            "\u001b[0;32m/usr/local/lib/python3.6/dist-packages/ipykernel/kernelbase.py\u001b[0m in \u001b[0;36m_input_request\u001b[0;34m(self, prompt, ident, parent, password)\u001b[0m\n\u001b[1;32m    728\u001b[0m             \u001b[0;32mtry\u001b[0m\u001b[0;34m:\u001b[0m\u001b[0;34m\u001b[0m\u001b[0;34m\u001b[0m\u001b[0m\n\u001b[0;32m--> 729\u001b[0;31m                 \u001b[0mident\u001b[0m\u001b[0;34m,\u001b[0m \u001b[0mreply\u001b[0m \u001b[0;34m=\u001b[0m \u001b[0mself\u001b[0m\u001b[0;34m.\u001b[0m\u001b[0msession\u001b[0m\u001b[0;34m.\u001b[0m\u001b[0mrecv\u001b[0m\u001b[0;34m(\u001b[0m\u001b[0mself\u001b[0m\u001b[0;34m.\u001b[0m\u001b[0mstdin_socket\u001b[0m\u001b[0;34m,\u001b[0m \u001b[0;36m0\u001b[0m\u001b[0;34m)\u001b[0m\u001b[0;34m\u001b[0m\u001b[0;34m\u001b[0m\u001b[0m\n\u001b[0m\u001b[1;32m    730\u001b[0m             \u001b[0;32mexcept\u001b[0m \u001b[0mException\u001b[0m\u001b[0;34m:\u001b[0m\u001b[0;34m\u001b[0m\u001b[0;34m\u001b[0m\u001b[0m\n",
            "\u001b[0;32m/usr/local/lib/python3.6/dist-packages/jupyter_client/session.py\u001b[0m in \u001b[0;36mrecv\u001b[0;34m(self, socket, mode, content, copy)\u001b[0m\n\u001b[1;32m    802\u001b[0m         \u001b[0;32mtry\u001b[0m\u001b[0;34m:\u001b[0m\u001b[0;34m\u001b[0m\u001b[0;34m\u001b[0m\u001b[0m\n\u001b[0;32m--> 803\u001b[0;31m             \u001b[0mmsg_list\u001b[0m \u001b[0;34m=\u001b[0m \u001b[0msocket\u001b[0m\u001b[0;34m.\u001b[0m\u001b[0mrecv_multipart\u001b[0m\u001b[0;34m(\u001b[0m\u001b[0mmode\u001b[0m\u001b[0;34m,\u001b[0m \u001b[0mcopy\u001b[0m\u001b[0;34m=\u001b[0m\u001b[0mcopy\u001b[0m\u001b[0;34m)\u001b[0m\u001b[0;34m\u001b[0m\u001b[0;34m\u001b[0m\u001b[0m\n\u001b[0m\u001b[1;32m    804\u001b[0m         \u001b[0;32mexcept\u001b[0m \u001b[0mzmq\u001b[0m\u001b[0;34m.\u001b[0m\u001b[0mZMQError\u001b[0m \u001b[0;32mas\u001b[0m \u001b[0me\u001b[0m\u001b[0;34m:\u001b[0m\u001b[0;34m\u001b[0m\u001b[0;34m\u001b[0m\u001b[0m\n",
            "\u001b[0;32m/usr/local/lib/python3.6/dist-packages/zmq/sugar/socket.py\u001b[0m in \u001b[0;36mrecv_multipart\u001b[0;34m(self, flags, copy, track)\u001b[0m\n\u001b[1;32m    474\u001b[0m         \"\"\"\n\u001b[0;32m--> 475\u001b[0;31m         \u001b[0mparts\u001b[0m \u001b[0;34m=\u001b[0m \u001b[0;34m[\u001b[0m\u001b[0mself\u001b[0m\u001b[0;34m.\u001b[0m\u001b[0mrecv\u001b[0m\u001b[0;34m(\u001b[0m\u001b[0mflags\u001b[0m\u001b[0;34m,\u001b[0m \u001b[0mcopy\u001b[0m\u001b[0;34m=\u001b[0m\u001b[0mcopy\u001b[0m\u001b[0;34m,\u001b[0m \u001b[0mtrack\u001b[0m\u001b[0;34m=\u001b[0m\u001b[0mtrack\u001b[0m\u001b[0;34m)\u001b[0m\u001b[0;34m]\u001b[0m\u001b[0;34m\u001b[0m\u001b[0;34m\u001b[0m\u001b[0m\n\u001b[0m\u001b[1;32m    476\u001b[0m         \u001b[0;31m# have first part already, only loop while more to receive\u001b[0m\u001b[0;34m\u001b[0m\u001b[0;34m\u001b[0m\u001b[0;34m\u001b[0m\u001b[0m\n",
            "\u001b[0;32mzmq/backend/cython/socket.pyx\u001b[0m in \u001b[0;36mzmq.backend.cython.socket.Socket.recv\u001b[0;34m()\u001b[0m\n",
            "\u001b[0;32mzmq/backend/cython/socket.pyx\u001b[0m in \u001b[0;36mzmq.backend.cython.socket.Socket.recv\u001b[0;34m()\u001b[0m\n",
            "\u001b[0;32mzmq/backend/cython/socket.pyx\u001b[0m in \u001b[0;36mzmq.backend.cython.socket._recv_copy\u001b[0;34m()\u001b[0m\n",
            "\u001b[0;32m/usr/local/lib/python3.6/dist-packages/zmq/backend/cython/checkrc.pxd\u001b[0m in \u001b[0;36mzmq.backend.cython.checkrc._check_rc\u001b[0;34m()\u001b[0m\n",
            "\u001b[0;31mKeyboardInterrupt\u001b[0m: ",
            "\nDuring handling of the above exception, another exception occurred:\n",
            "\u001b[0;31mKeyboardInterrupt\u001b[0m                         Traceback (most recent call last)",
            "\u001b[0;32m<ipython-input-1-41ead73db034>\u001b[0m in \u001b[0;36m<module>\u001b[0;34m()\u001b[0m\n\u001b[0;32m----> 1\u001b[0;31m \u001b[0mspeech\u001b[0m \u001b[0;34m=\u001b[0m \u001b[0minput\u001b[0m\u001b[0;34m(\u001b[0m\u001b[0;34m\"Insira do discurso do Rei: \"\u001b[0m\u001b[0;34m)\u001b[0m\u001b[0;34m\u001b[0m\u001b[0;34m\u001b[0m\u001b[0m\n\u001b[0m\u001b[1;32m      2\u001b[0m \u001b[0mwords\u001b[0m \u001b[0;34m=\u001b[0m \u001b[0mspeech\u001b[0m\u001b[0;34m.\u001b[0m\u001b[0msplit\u001b[0m\u001b[0;34m(\u001b[0m\u001b[0;34m)\u001b[0m\u001b[0;34m\u001b[0m\u001b[0;34m\u001b[0m\u001b[0m\n\u001b[1;32m      3\u001b[0m \u001b[0mresult\u001b[0m \u001b[0;34m=\u001b[0m \u001b[0mdict\u001b[0m\u001b[0;34m(\u001b[0m\u001b[0;34m)\u001b[0m\u001b[0;34m\u001b[0m\u001b[0;34m\u001b[0m\u001b[0m\n\u001b[1;32m      4\u001b[0m \u001b[0mlastWord\u001b[0m \u001b[0;34m=\u001b[0m \u001b[0;34m\"\"\u001b[0m\u001b[0;34m\u001b[0m\u001b[0;34m\u001b[0m\u001b[0m\n\u001b[1;32m      5\u001b[0m \u001b[0;32mfor\u001b[0m \u001b[0mword\u001b[0m \u001b[0;32min\u001b[0m \u001b[0mwords\u001b[0m\u001b[0;34m:\u001b[0m\u001b[0;34m\u001b[0m\u001b[0;34m\u001b[0m\u001b[0m\n",
            "\u001b[0;32m/usr/local/lib/python3.6/dist-packages/ipykernel/kernelbase.py\u001b[0m in \u001b[0;36mraw_input\u001b[0;34m(self, prompt)\u001b[0m\n\u001b[1;32m    702\u001b[0m             \u001b[0mself\u001b[0m\u001b[0;34m.\u001b[0m\u001b[0m_parent_ident\u001b[0m\u001b[0;34m,\u001b[0m\u001b[0;34m\u001b[0m\u001b[0;34m\u001b[0m\u001b[0m\n\u001b[1;32m    703\u001b[0m             \u001b[0mself\u001b[0m\u001b[0;34m.\u001b[0m\u001b[0m_parent_header\u001b[0m\u001b[0;34m,\u001b[0m\u001b[0;34m\u001b[0m\u001b[0;34m\u001b[0m\u001b[0m\n\u001b[0;32m--> 704\u001b[0;31m             \u001b[0mpassword\u001b[0m\u001b[0;34m=\u001b[0m\u001b[0;32mFalse\u001b[0m\u001b[0;34m,\u001b[0m\u001b[0;34m\u001b[0m\u001b[0;34m\u001b[0m\u001b[0m\n\u001b[0m\u001b[1;32m    705\u001b[0m         )\n\u001b[1;32m    706\u001b[0m \u001b[0;34m\u001b[0m\u001b[0m\n",
            "\u001b[0;32m/usr/local/lib/python3.6/dist-packages/ipykernel/kernelbase.py\u001b[0m in \u001b[0;36m_input_request\u001b[0;34m(self, prompt, ident, parent, password)\u001b[0m\n\u001b[1;32m    732\u001b[0m             \u001b[0;32mexcept\u001b[0m \u001b[0mKeyboardInterrupt\u001b[0m\u001b[0;34m:\u001b[0m\u001b[0;34m\u001b[0m\u001b[0;34m\u001b[0m\u001b[0m\n\u001b[1;32m    733\u001b[0m                 \u001b[0;31m# re-raise KeyboardInterrupt, to truncate traceback\u001b[0m\u001b[0;34m\u001b[0m\u001b[0;34m\u001b[0m\u001b[0;34m\u001b[0m\u001b[0m\n\u001b[0;32m--> 734\u001b[0;31m                 \u001b[0;32mraise\u001b[0m \u001b[0mKeyboardInterrupt\u001b[0m\u001b[0;34m\u001b[0m\u001b[0;34m\u001b[0m\u001b[0m\n\u001b[0m\u001b[1;32m    735\u001b[0m             \u001b[0;32melse\u001b[0m\u001b[0;34m:\u001b[0m\u001b[0;34m\u001b[0m\u001b[0;34m\u001b[0m\u001b[0m\n\u001b[1;32m    736\u001b[0m                 \u001b[0;32mbreak\u001b[0m\u001b[0;34m\u001b[0m\u001b[0;34m\u001b[0m\u001b[0m\n",
            "\u001b[0;31mKeyboardInterrupt\u001b[0m: "
          ]
        }
      ]
    },
    {
      "cell_type": "code",
      "metadata": {
        "id": "41TZruiiLTck",
        "colab_type": "code",
        "colab": {}
      },
      "source": [
        ""
      ],
      "execution_count": 0,
      "outputs": []
    }
  ]
}