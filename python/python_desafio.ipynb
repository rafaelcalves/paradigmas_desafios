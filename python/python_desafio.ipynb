{
 "cells": [
  {
   "cell_type": "markdown",
   "metadata": {
    "collapsed": false
   },
   "source": [
    "# Linguagem 1 - Python"
   ]
  },
  {
   "cell_type": "markdown",
   "metadata": {
    "collapsed": false
   },
   "source": [
    "Integrantes do grupo: \n",
    "* <font color=red>**Rafael Corrêa**</font>\n",
    "* <font color=red>**Guilherme Pohlmann**</font>\n",
    "* <font color=red>**Matheus Mombach**</font>\n",
    "* <font color=red>**Nicolas Prokopetz**</font>"
   ]
  },
  {
   "cell_type": "code",
   "execution_count": 0,
   "metadata": {
    "collapsed": false
   },
   "outputs": [
   ],
   "source": [
   ]
  },
  {
   "cell_type": "markdown",
   "metadata": {
    "collapsed": false
   },
   "source": [
    "Resumo das etapas:\n",
    "1. Preparação: aprender um pouco sobre a linguagem\n",
    "2. Desafio: resolva um desafio utilizando a linguagem\n",
    "3. Desafio para outros grupos: crie um desafio (com resposta) para os outros grupos\n",
    "\n",
    "Ao final, este notebook deve ser enviado pelo Moodle."
   ]
  },
  {
   "cell_type": "markdown",
   "metadata": {
    "collapsed": false
   },
   "source": [
    "***\n",
    "\n",
    "## 1. Preparação\n",
    "\n",
    "Faça o tutorial de Python a seguir: https://docs.python.org/3/tutorial/index.html. Como referência, é possível utilizar ainda a seguinte documentação: https://docs.python.org/3/. Utilize a célula abaixo para testar o código do tutorial. Logo após, verifique e entenda o funcionamento dos exemplos 1 e 2 a seguir."
   ]
  },
  {
   "cell_type": "code",
   "execution_count": 1,
   "metadata": {
    "collapsed": false
   },
   "outputs": [
   ],
   "source": [
    "# exercite seus conhecimentos de Python aqui"
   ]
  },
  {
   "cell_type": "markdown",
   "metadata": {
    "collapsed": false
   },
   "source": [
    "### Exemplo 1"
   ]
  },
  {
   "cell_type": "code",
   "execution_count": 2,
   "metadata": {
    "cocalc": {
     "outputs": {
      "0": {
       "name": "input",
       "opts": {
        "password": false,
        "prompt": "Informe um número: "
       },
       "output_type": "stream"
      }
     }
    },
    "collapsed": false
   },
   "outputs": [
    {
     "name": "stdout",
     "output_type": "stream",
     "text": "Informe um número:  "
    }
   ],
   "source": [
    "# este é um comentário em linha\n",
    "\n",
    "'''\n",
    "este é um bloco de comentário, entre 3 aspas simples\n",
    "'''\n",
    "\n",
    "# a partir daqui temos o controle de fluxo sequencial\n",
    "x = int(input(\"Informe um número: \"))\n",
    "if x < 0:\n",
    "    x = 0\n",
    "    print(\"Número negativo alterado para zero\")\n",
    "elif x == 0:\n",
    "    print(\"Zero\")\n",
    "elif x == 1:\n",
    "    print(\"Um\")\n",
    "else:\n",
    "    print(\"Outro\")"
   ]
  },
  {
   "cell_type": "markdown",
   "metadata": {
    "collapsed": false
   },
   "source": [
    "### Exemplo 2"
   ]
  },
  {
   "cell_type": "code",
   "execution_count": 0,
   "metadata": {
    "collapsed": false
   },
   "outputs": [
   ],
   "source": [
    "# criando uma lista de palavras\n",
    "palavras = ['casa', 'Unisinos', 'paradigmas']\n",
    "\n",
    "# usando iteração para percorrer a lista e imprimir seus elementos na tela\n",
    "for p in palavras:\n",
    "    print(f'Palavra: \"{p}\" (possui {len(p)} caracteres)')"
   ]
  },
  {
   "cell_type": "markdown",
   "metadata": {
    "collapsed": false
   },
   "source": [
    "***\n",
    "\n",
    "## 2. Desafio"
   ]
  },
  {
   "cell_type": "markdown",
   "metadata": {
    "collapsed": false
   },
   "source": [
    "### Padawan! Encontre o sabre de luz!\n",
    "\n",
    "<img src=\"https://i.imgur.com/tKiHpSN.jpg\" style=\"width: 500px;\"/>\n",
    "\n",
    "A partir de agora você é um Padawan e está morando na Jedi's Housing. A Jedi's Housing é a casa dos Padawans que estão em treinamento para se tornarem Jedis. A Jedi's Housing é dividida em 6 locais, conforme mostra o mapa:\n",
    "\n",
    "<img src=\"https://i.imgur.com/hGT1NWS.jpg\" style=\"width: 500px;\"/>\n",
    "\n",
    "Durante o último treino, você acabou deixando seu sabre de luz em algum lugar da Jedi's Housing. E agora, existe a ameaça do Darth Vader estar rondando a Jedi's Housing.\n",
    "\n",
    "Para ajudar os seus colegas neste possível ataque dos Sith, você precisar encontrar o seu sabre de luz, antes que o Darth Vader o encontre!\n",
    "\n",
    "Para tanto, você deve percorrer os locais da Jedi's Housing! Utilize as direções: Norte (N), Leste (L), Sul (S) e Oeste (O) para entrar nos locais e localizar o seu sabre de luz. Lembre-se que você está agora na entrada! "
   ]
  },
  {
   "cell_type": "markdown",
   "metadata": {
    "collapsed": false
   },
   "source": [
    "### Instruções/regras para o desafio:\n",
    "\n",
    "Crie um programa em Python para codificar a história apresentada acima. Você pode iniciar com base em parte do programa principal apresentado abaixo.\n",
    "\n",
    "Você deverá fazer uso de:\n",
    "* tipos de dados primitivos: int, boolean (https://docs.python.org/3/reference/datamodel.html#objects-values-and-types)\n",
    "* tipos de dados compostos: strings, tuple, list, set e mapping (https://docs.python.org/3/reference/datamodel.html#objects-values-and-types)\n",
    "* controle de fluxo do tipo: sequenciamento\n",
    "* controle de fluxo do tipo: seleção (https://docs.python.org/3/reference/compound_stmts.html#the-if-statement)\n",
    "* controle de fluxo do tipo: iteração - while (https://docs.python.org/3/reference/compound_stmts.html#while)\n",
    "* controle de fluxo do tipo: abstração procedural - functions (https://docs.python.org/3/tutorial/controlflow.html#defining-functions)\n",
    "* comando de entrada de dados: input ()\n",
    "* comando de saída de dados: print (https://docs.python.org/3/library/functions.html#print)\n",
    "* comando de quebra de fluxo de iteração: break (https://docs.python.org/3/reference/simple_stmts.html#the-break-statement)\n",
    "* operador de concatenação de strings (https://docs.python.org/3/tutorial/introduction.html#strings)\n",
    "* biblioteca random para deixar randômico o local onde o sabre de luz estará em cada jogada (https://docs.python.org/3/reference/simple_stmts.html#import)\n",
    "\n",
    "Para contar o tempo dos turnos, utilizem um timer online como [este](http://timeronline.com.br)."
   ]
  },
  {
   "cell_type": "markdown",
   "metadata": {
    "collapsed": false
   },
   "source": [
    "### Código de exemplo:"
   ]
  },
  {
   "cell_type": "code",
   "execution_count": 0,
   "metadata": {
    "collapsed": false
   },
   "outputs": [
   ],
   "source": [
    "import random\n",
    "\n",
    "#função principal que executa o programa\n",
    "def main():\n",
    "  dirs = (0,0,0,0) #tipo de dados tuple para controlar as direções\n",
    "  \n",
    "  '''locais do Jedi's Housing\n",
    "  tipo de dados utilizado: dict (coleção do tipo dicionário com propriedades e valores)\n",
    "  ver tutorial: https://docs.python.org/3/library/stdtypes.html#typesmapping\n",
    "  '''\n",
    "  entrance = {'name': 'Entrada', 'directions': dirs, 'msg': ''}\n",
    "  livingroom = {'name': 'Sala de Estar', 'directions': dirs, 'msg': ''}\n",
    "  kitchen = {'name': 'Cozinha', 'directions': dirs, 'msg':''}\n",
    "  jedistudyroom = {'name': 'Sala de Estudos', 'directions': dirs, 'msg': ''}\n",
    "  jediboysroom = {'name': 'Dormitório dos meninos Jedi', 'directions': dirs, 'msg': ''}\n",
    "  jedigirlsroom = {'name': 'Dormitório das meninas Jedi', 'directions': dirs, 'msg': ''}\n",
    "\n",
    "  #definição das direções de cada local (N,L,S,O) conforme o mapa\n",
    "  entrance['directions'] = (0,livingroom,0,0) \n",
    "  livingroom['directions'] = (jedistudyroom,jedigirlsroom,kitchen,entrance) \n",
    "  kitchen['directions'] = (livingroom,0,0,0) \n",
    "  jedistudyroom['directions'] = (0,jediboysroom,livingroom,0) \n",
    "  jediboysroom['directions'] = (0,0,jedigirlsroom,jedistudyroom) \n",
    "  jedigirlsroom['directions'] = (jedistudyroom,0,0,livingroom) \n",
    "  \n",
    "  #definição de onde o sabre de luz pode estar\n",
    "  # tipo de dados utilizado: list\n",
    "  #https://docs.python.org/3/tutorial/introduction.html#lists\n",
    "  rooms = [livingroom,kitchen,jedistudyroom,jediboysroom,jedigirlsroom]\n",
    "  room_with_lightsaber = random.choice(rooms) #aqui estamos usando o random para mudar o local do sabre em cada jogada\n",
    "  lightsaber_found = False\n",
    "  room = entrance\n",
    "  print('Bem-vindo Padawan! Você consegue localizar onde está o seu sabre de luz?')\n",
    "  \n",
    "#executa a função main\n",
    "main()"
   ]
  },
  {
   "cell_type": "markdown",
   "metadata": {
    "collapsed": false
   },
   "source": [
    "### Solução do grupo\n",
    "\n",
    "Desenvolva a solução do grupo na célula abaixo:"
   ]
  },
  {
   "cell_type": "code",
   "execution_count": 0,
   "metadata": {
    "collapsed": false
   },
   "outputs": [
   ],
   "source": [
    "# seu código aqui"
   ]
  },
  {
   "cell_type": "markdown",
   "metadata": {
    "collapsed": false
   },
   "source": [
    "***\n",
    "\n",
    "## 3. Desafio para os outros grupos\n",
    "\n",
    "Tema da história: **filmes de ficção**. \n",
    "\n",
    "Cada grupo deve se basear em um filme e em um cenário (como no desafio do professor) e propor um desafio para os outros grupos (no estilo _beginners_!). \n",
    "\n",
    "Ao final, os desafios devem ser postados no fórum para os outros grupos poderem se desafiar durante a semana (cada desafio deve ser escolhido por no máximo 01 grupo). Para isto, crie um novo tópico no fórum da aula de hoje com o enunciado do desafio. Não esqueça de incluir o título do desafio!"
   ]
  },
  {
   "cell_type": "markdown",
   "metadata": {
    "collapsed": false
   },
   "source": [
    "### Descrição do desafio"
   ]
  },
  {
   "cell_type": "markdown",
   "metadata": {
    "collapsed": false
   },
   "source": [
    "\n",
    "## DESAFIO O DISCURSO DO REI\n",
    "\n",
    "O Rei faz um discurso e cabe ao nosso programa rankear o número de palavras utilizadas por ordem de ocorrências. Como nosso rei sofre de gagueira, precisamos descontar palavras que sejam diretamente repetidas para que não tenhamos um falso verdadeiro no nosso rank.\n",
    "\n",
    "O programa deve ter uma entrada de texto para o discurso do rei e, como saída, deve ser apresentado o rank juntamente com o número de ocorrências de cada palavra."
   ]
  },
  {
   "cell_type": "markdown",
   "metadata": {
    "collapsed": false
   },
   "source": [
    "### Solução do desafio"
   ]
  },
  {
   "cell_type": "code",
   "execution_count": 2,
   "metadata": {
    "cocalc": {
     "outputs": {
      "0": {
       "name": "input",
       "opts": {
        "password": false,
        "prompt": "Insira do discurso do Rei: "
       },
       "output_type": "stream",
       "value": "TESTE TESTE A B B A TESTE A"
      }
     }
    },
    "collapsed": false
   },
   "outputs": [
    {
     "name": "stdout",
     "output_type": "stream",
     "text": "Insira do discurso do Rei:  TESTE TESTE A B B A TESTE A"
    },
    {
     "ename": "NameError",
     "evalue": "name 'operator' is not defined",
     "output_type": "error",
     "traceback": [
      "\u001b[0;31m---------------------------------------------------------------------------\u001b[0m",
      "\u001b[0;31mNameError\u001b[0m                                 Traceback (most recent call last)",
      "\u001b[0;32m<ipython-input-2-1d40cc1ae22a>\u001b[0m in \u001b[0;36m<module>\u001b[0;34m\u001b[0m\n\u001b[1;32m      8\u001b[0m     \u001b[0mlastWord\u001b[0m \u001b[0;34m=\u001b[0m \u001b[0mword\u001b[0m\u001b[0;34m\u001b[0m\u001b[0;34m\u001b[0m\u001b[0m\n\u001b[1;32m      9\u001b[0m \u001b[0;34m\u001b[0m\u001b[0m\n\u001b[0;32m---> 10\u001b[0;31m \u001b[0msortedResult\u001b[0m \u001b[0;34m=\u001b[0m \u001b[0msorted\u001b[0m\u001b[0;34m(\u001b[0m\u001b[0mresult\u001b[0m\u001b[0;34m.\u001b[0m\u001b[0mitems\u001b[0m\u001b[0;34m(\u001b[0m\u001b[0;34m)\u001b[0m\u001b[0;34m,\u001b[0m \u001b[0mkey\u001b[0m\u001b[0;34m=\u001b[0m\u001b[0moperator\u001b[0m\u001b[0;34m.\u001b[0m\u001b[0mitemgetter\u001b[0m\u001b[0;34m(\u001b[0m\u001b[0;36m1\u001b[0m\u001b[0;34m)\u001b[0m\u001b[0;34m)\u001b[0m\u001b[0;34m\u001b[0m\u001b[0;34m\u001b[0m\u001b[0m\n\u001b[0m\u001b[1;32m     11\u001b[0m \u001b[0;32mfor\u001b[0m \u001b[0mword\u001b[0m\u001b[0;34m,\u001b[0m \u001b[0moccurences\u001b[0m \u001b[0;32min\u001b[0m \u001b[0mresult\u001b[0m\u001b[0;34m.\u001b[0m\u001b[0mitems\u001b[0m\u001b[0;34m(\u001b[0m\u001b[0;34m)\u001b[0m\u001b[0;34m:\u001b[0m\u001b[0;34m\u001b[0m\u001b[0;34m\u001b[0m\u001b[0m\n\u001b[1;32m     12\u001b[0m     \u001b[0mprint\u001b[0m\u001b[0;34m(\u001b[0m\u001b[0mword\u001b[0m \u001b[0;34m+\u001b[0m \u001b[0;34m\" : \"\u001b[0m \u001b[0;34m+\u001b[0m \u001b[0mstr\u001b[0m\u001b[0;34m(\u001b[0m\u001b[0moccurences\u001b[0m\u001b[0;34m)\u001b[0m\u001b[0;34m)\u001b[0m\u001b[0;34m\u001b[0m\u001b[0;34m\u001b[0m\u001b[0m\n",
      "\u001b[0;31mNameError\u001b[0m: name 'operator' is not defined"
     ]
    }
   ],
   "source": [
    "speech = input(\"Insira do discurso do Rei: \")\n",
    "words = speech.split()\n",
    "result = dict()\n",
    "lastWord = \"\"\n",
    "for word in words:\n",
    "    if(word != lastWord):\n",
    "        result[word] = result.get(word, 0) + 1\n",
    "    lastWord = word\n",
    "\n",
    "sortedResult = sorted(x.items(), key=lambda kv: kv[1])\n",
    "for word, occurences in result.items():\n",
    "    print(word + \" : \" + str(occurences))"
   ]
  },
  {
   "cell_type": "code",
   "execution_count": 0,
   "metadata": {
    "collapsed": false
   },
   "outputs": [
   ],
   "source": [
   ]
  }
 ],
 "metadata": {
  "kernelspec": {
   "display_name": "Python 3 (system-wide)",
   "language": "python",
   "metadata": {
    "cocalc": {
     "description": "Python 3 programming language",
     "priority": 100,
     "url": "https://www.python.org/"
    }
   },
   "name": "python3"
  },
  "language_info": {
   "codemirror_mode": {
    "name": "ipython",
    "version": 3
   },
   "file_extension": ".py",
   "mimetype": "text/x-python",
   "name": "python",
   "nbconvert_exporter": "python",
   "pygments_lexer": "ipython3",
   "version": "3.6.9"
  }
 },
 "nbformat": 4,
 "nbformat_minor": 4
}