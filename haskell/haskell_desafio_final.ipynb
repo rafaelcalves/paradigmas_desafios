{
 "cells": [
  {
   "cell_type": "markdown",
   "metadata": {
    "colab_type": "text",
    "collapsed": false,
    "id": "Ti6Nlkt5CYvu"
   },
   "source": [
    "# Linguagem 7 - Haskell"
   ]
  },
  {
   "cell_type": "markdown",
   "metadata": {
    "colab_type": "text",
    "collapsed": false,
    "id": "X5Fy0q7xCYvx"
   },
   "source": [
    "Integrantes do grupo: \n",
    "* <font color=red>**Rafael Corrêa**</font>\n",
    "* <font color=red>**Guilherme Pohlmann**</font>\n",
    "* <font color=red>**Matheus Mombach**</font>\n",
    "* <font color=red>**Nicolas Prokopetz**</font>"
   ]
  },
  {
   "cell_type": "markdown",
   "metadata": {
    "colab_type": "text",
    "collapsed": false,
    "id": "KWPf0PPVCYvy"
   },
   "source": [
    "Resumo das etapas:\n",
    "1. Preparação: aprender um pouco sobre a linguagem\n",
    "2. Desafio: resolva um desafio utilizando a linguagem\n",
    "3. Desafio para outros grupos: crie um desafio (com resposta) para os outros grupos\n",
    "\n",
    "Ao final, este notebook deve ser enviado pelo Moodle."
   ]
  },
  {
   "cell_type": "markdown",
   "metadata": {
    "colab_type": "text",
    "collapsed": false,
    "id": "4Ur22T4SCYvz"
   },
   "source": [
    "***\n",
    "\n",
    "## 1. Preparação\n",
    "\n",
    "Faça o tutorial de Haskell a seguir: http://learnyouahaskell.com/starting-out. Como referência, é possível utilizar ainda a seguinte documentação: https://www.haskell.org/documentation/. Utilize a célula abaixo para testar o código do tutorial. Logo após, verifique e entenda o funcionamento dos exemplos a seguir."
   ]
  },
  {
   "cell_type": "code",
   "execution_count": 0,
   "metadata": {
    "colab": {
    },
    "colab_type": "code",
    "collapsed": false,
    "id": "6Q-ZliDsCYv0"
   },
   "outputs": [
   ],
   "source": [
    "-- exercite seus conhecimentos de Haskell aqui"
   ]
  },
  {
   "cell_type": "markdown",
   "metadata": {
    "colab_type": "text",
    "collapsed": false,
    "id": "cCYH2UwPCYv3"
   },
   "source": [
    "### Exemplo 1"
   ]
  },
  {
   "cell_type": "code",
   "execution_count": 0,
   "metadata": {
    "colab": {
    },
    "colab_type": "code",
    "collapsed": false,
    "id": "QbTvYhDHCYv4",
    "outputId": "d4d41e14-9369-42b8-bf1f-ec876bd88f77"
   },
   "outputs": [
    {
     "data": {
      "text/plain": [
       "12"
      ]
     },
     "execution_count": 0,
     "metadata": {
      "tags": [
      ]
     },
     "output_type": "execute_result"
    },
    {
     "data": {
      "text/plain": [
       "\"hello world\""
      ]
     },
     "execution_count": 0,
     "metadata": {
      "tags": [
      ]
     },
     "output_type": "execute_result"
    }
   ],
   "source": [
    "5+7 -- soma de dois números\n",
    "\"hello world\" -- string"
   ]
  },
  {
   "cell_type": "code",
   "execution_count": 0,
   "metadata": {
    "colab": {
    },
    "colab_type": "code",
    "collapsed": false,
    "id": "5Q3eTMdUCYv8",
    "outputId": "09effa77-7a03-4599-8c60-c5e1e674f74f"
   },
   "outputs": [
    {
     "data": {
      "text/plain": [
       "2"
      ]
     },
     "execution_count": 0,
     "metadata": {
      "tags": [
      ]
     },
     "output_type": "execute_result"
    },
    {
     "data": {
      "text/plain": [
       "4"
      ]
     },
     "execution_count": 0,
     "metadata": {
      "tags": [
      ]
     },
     "output_type": "execute_result"
    },
    {
     "data": {
      "text/plain": [
       "5"
      ]
     },
     "execution_count": 0,
     "metadata": {
      "tags": [
      ]
     },
     "output_type": "execute_result"
    },
    {
     "data": {
      "text/plain": [
       "16"
      ]
     },
     "execution_count": 0,
     "metadata": {
      "tags": [
      ]
     },
     "output_type": "execute_result"
    }
   ],
   "source": [
    "succ 1\n",
    "min 4 5 -- menor de dois números\n",
    "max 4 5 -- maior de dois números\n",
    "succ 9 + max 5 4 + 1"
   ]
  },
  {
   "cell_type": "code",
   "execution_count": 0,
   "metadata": {
    "colab": {
    },
    "colab_type": "code",
    "collapsed": false,
    "id": "ldSVbSsICYwA",
    "outputId": "4ae85e87-567f-4745-de2c-1b020326d078"
   },
   "outputs": [
    {
     "data": {
      "text/plain": [
       "8"
      ]
     },
     "execution_count": 0,
     "metadata": {
      "tags": [
      ]
     },
     "output_type": "execute_result"
    },
    {
     "data": {
      "text/plain": [
       "14"
      ]
     },
     "execution_count": 0,
     "metadata": {
      "tags": [
      ]
     },
     "output_type": "execute_result"
    }
   ],
   "source": [
    "doubleMe x = x + x \n",
    "doubleMe 4\n",
    "doubleMe 7"
   ]
  },
  {
   "cell_type": "code",
   "execution_count": 0,
   "metadata": {
    "colab": {
    },
    "colab_type": "code",
    "collapsed": false,
    "id": "bZ6qNGRLCYwF",
    "outputId": "60968f78-8695-4047-f898-60815935ee46"
   },
   "outputs": [
    {
     "data": {
      "text/plain": [
       "14"
      ]
     },
     "execution_count": 0,
     "metadata": {
      "tags": [
      ]
     },
     "output_type": "execute_result"
    },
    {
     "data": {
      "text/plain": [
       "478"
      ]
     },
     "execution_count": 0,
     "metadata": {
      "tags": [
      ]
     },
     "output_type": "execute_result"
    }
   ],
   "source": [
    "doubleUs x y = x*2 + y*2\n",
    "doubleUs 3 4\n",
    "doubleUs 28 88 + doubleMe 123"
   ]
  },
  {
   "cell_type": "code",
   "execution_count": 0,
   "metadata": {
    "colab": {
    },
    "colab_type": "code",
    "collapsed": false,
    "id": "4iozgoP6CYwL",
    "outputId": "32a26d35-853b-4a93-a259-e8e3cc31288b"
   },
   "outputs": [
    {
     "data": {
      "text/plain": [
       "20"
      ]
     },
     "execution_count": 0,
     "metadata": {
      "tags": [
      ]
     },
     "output_type": "execute_result"
    },
    {
     "data": {
      "text/plain": [
       "200"
      ]
     },
     "execution_count": 0,
     "metadata": {
      "tags": [
      ]
     },
     "output_type": "execute_result"
    }
   ],
   "source": [
    "doubleSmallNumber x = if x > 100  \n",
    "                        then x  \n",
    "                        else x*2\n",
    "doubleSmallNumber 10\n",
    "doubleSmallNumber 200"
   ]
  },
  {
   "cell_type": "code",
   "execution_count": 0,
   "metadata": {
    "colab": {
    },
    "colab_type": "code",
    "collapsed": false,
    "id": "Cdbmj_mNCYwP",
    "outputId": "42ca8012-527f-46ad-c15d-da630ae75626"
   },
   "outputs": [
    {
     "data": {
      "text/plain": [
       "21"
      ]
     },
     "execution_count": 0,
     "metadata": {
      "tags": [
      ]
     },
     "output_type": "execute_result"
    }
   ],
   "source": [
    "doubleSmallNumber' x = (if x > 100 then x else x*2) + 1  -- o apóstrofo denota uma versão modificada de doubleSmallNumber\n",
    "doubleSmallNumber' 10"
   ]
  },
  {
   "cell_type": "code",
   "execution_count": 0,
   "metadata": {
    "colab": {
    },
    "colab_type": "code",
    "collapsed": false,
    "id": "1KfNbTgPCYwU",
    "outputId": "e68aba93-64ba-4bc0-a3b3-b0954d191f6b"
   },
   "outputs": [
    {
     "data": {
      "text/plain": [
       "120"
      ]
     },
     "execution_count": 0,
     "metadata": {
      "tags": [
      ]
     },
     "output_type": "execute_result"
    },
    {
     "data": {
      "text/plain": [
       "25.132741228718345"
      ]
     },
     "execution_count": 0,
     "metadata": {
      "tags": [
      ]
     },
     "output_type": "execute_result"
    }
   ],
   "source": [
    "factorial n = product [1..n]\n",
    "factorial 5\n",
    "circumference r = 2 * pi * r\n",
    "circumference 4.0"
   ]
  },
  {
   "cell_type": "markdown",
   "metadata": {
    "colab_type": "text",
    "collapsed": false,
    "id": "-L0tIgjDCYwX"
   },
   "source": [
    "### Exemplo 2"
   ]
  },
  {
   "cell_type": "code",
   "execution_count": 0,
   "metadata": {
    "colab": {
    },
    "colab_type": "code",
    "collapsed": false,
    "id": "SjXZ9TbxCYwY",
    "outputId": "f4f8b059-ff5a-4911-f4c0-edea95f23889"
   },
   "outputs": [
    {
     "data": {
      "text/plain": [
       "[4,8,15,16,23,42]"
      ]
     },
     "execution_count": 0,
     "metadata": {
      "tags": [
      ]
     },
     "output_type": "execute_result"
    }
   ],
   "source": [
    "let lostNumbers = [4,8,15,16,23,42] \n",
    "lostNumbers"
   ]
  },
  {
   "cell_type": "code",
   "execution_count": 0,
   "metadata": {
    "colab": {
    },
    "colab_type": "code",
    "collapsed": false,
    "id": "CYPJ_I9NCYwb",
    "outputId": "2e69afe9-d664-404f-9f78-ef30e553125a"
   },
   "outputs": [
    {
     "data": {
      "text/plain": [
       "[1,2,3,4,9,10,11,12]"
      ]
     },
     "execution_count": 0,
     "metadata": {
      "tags": [
      ]
     },
     "output_type": "execute_result"
    },
    {
     "data": {
      "text/plain": [
       "\"hello world\""
      ]
     },
     "execution_count": 0,
     "metadata": {
      "tags": [
      ]
     },
     "output_type": "execute_result"
    },
    {
     "data": {
      "text/plain": [
       "\"woot\""
      ]
     },
     "execution_count": 0,
     "metadata": {
      "tags": [
      ]
     },
     "output_type": "execute_result"
    }
   ],
   "source": [
    "[1,2,3,4] ++ [9,10,11,12]  \n",
    "\"hello\" ++ \" \" ++ \"world\"  \n",
    "['w','o'] ++ ['o','t']  "
   ]
  },
  {
   "cell_type": "code",
   "execution_count": 0,
   "metadata": {
    "colab": {
    },
    "colab_type": "code",
    "collapsed": false,
    "id": "pMX7MqRGCYwf",
    "outputId": "ddc0e4ec-21ce-4cfe-9bb5-eb9e109bf155"
   },
   "outputs": [
    {
     "data": {
      "text/plain": [
       "\"A SMALL CAT\""
      ]
     },
     "execution_count": 0,
     "metadata": {
      "tags": [
      ]
     },
     "output_type": "execute_result"
    },
    {
     "data": {
      "text/plain": [
       "[5,1,2,3,4,5]"
      ]
     },
     "execution_count": 0,
     "metadata": {
      "tags": [
      ]
     },
     "output_type": "execute_result"
    }
   ],
   "source": [
    "'A':\" SMALL CAT\" \n",
    "5:[1,2,3,4,5]"
   ]
  },
  {
   "cell_type": "code",
   "execution_count": 0,
   "metadata": {
    "colab": {
    },
    "colab_type": "code",
    "collapsed": false,
    "id": "Vo5IvA72CYwk",
    "outputId": "6b6ab75b-f68a-4fec-fdb7-ba088e3a59fe"
   },
   "outputs": [
    {
     "data": {
      "text/html": [
       "<style>/* Styles used for the Hoogle display in the pager */\n",
       ".hoogle-doc {\n",
       "display: block;\n",
       "padding-bottom: 1.3em;\n",
       "padding-left: 0.4em;\n",
       "}\n",
       ".hoogle-code {\n",
       "display: block;\n",
       "font-family: monospace;\n",
       "white-space: pre;\n",
       "}\n",
       ".hoogle-text {\n",
       "display: block;\n",
       "}\n",
       ".hoogle-name {\n",
       "color: green;\n",
       "font-weight: bold;\n",
       "}\n",
       ".hoogle-head {\n",
       "font-weight: bold;\n",
       "}\n",
       ".hoogle-sub {\n",
       "display: block;\n",
       "margin-left: 0.4em;\n",
       "}\n",
       ".hoogle-package {\n",
       "font-weight: bold;\n",
       "font-style: italic;\n",
       "}\n",
       ".hoogle-module {\n",
       "font-weight: bold;\n",
       "}\n",
       ".hoogle-class {\n",
       "font-weight: bold;\n",
       "}\n",
       ".get-type {\n",
       "color: green;\n",
       "font-weight: bold;\n",
       "font-family: monospace;\n",
       "display: block;\n",
       "white-space: pre-wrap;\n",
       "}\n",
       ".show-type {\n",
       "color: green;\n",
       "font-weight: bold;\n",
       "font-family: monospace;\n",
       "margin-left: 1em;\n",
       "}\n",
       ".mono {\n",
       "font-family: monospace;\n",
       "display: block;\n",
       "}\n",
       ".err-msg {\n",
       "color: red;\n",
       "font-style: italic;\n",
       "font-family: monospace;\n",
       "white-space: pre;\n",
       "display: block;\n",
       "}\n",
       "#unshowable {\n",
       "color: red;\n",
       "font-weight: bold;\n",
       "}\n",
       ".err-msg.in.collapse {\n",
       "padding-top: 0.7em;\n",
       "}\n",
       ".highlight-code {\n",
       "white-space: pre;\n",
       "font-family: monospace;\n",
       "}\n",
       ".suggestion-warning { \n",
       "font-weight: bold;\n",
       "color: rgb(200, 130, 0);\n",
       "}\n",
       ".suggestion-error { \n",
       "font-weight: bold;\n",
       "color: red;\n",
       "}\n",
       ".suggestion-name {\n",
       "font-weight: bold;\n",
       "}\n",
       "</style><div class=\"suggestion-name\" style=\"clear:both;\">Use list literal</div><div class=\"suggestion-row\" style=\"float: left;\"><div class=\"suggestion-warning\">Found:</div><div class=\"highlight-code\" id=\"haskell\">'a' : 'b' : []</div></div><div class=\"suggestion-row\" style=\"float: left;\"><div class=\"suggestion-warning\">Why Not:</div><div class=\"highlight-code\" id=\"haskell\">['a', 'b']</div></div><div class=\"suggestion-name\" style=\"clear:both;\">Use list literal</div><div class=\"suggestion-row\" style=\"float: left;\"><div class=\"suggestion-warning\">Found:</div><div class=\"highlight-code\" id=\"haskell\">'a' : 'b' : []</div></div><div class=\"suggestion-row\" style=\"float: left;\"><div class=\"suggestion-warning\">Why Not:</div><div class=\"highlight-code\" id=\"haskell\">['a', 'b']</div></div>"
      ],
      "text/plain": [
       "Line 1: Use list literal\n",
       "Found:\n",
       "'a' : 'b' : []\n",
       "Why not:\n",
       "['a', 'b']Line 1: Use list literal\n",
       "Found:\n",
       "'a' : 'b' : []\n",
       "Why not:\n",
       "['a', 'b']"
      ]
     },
     "execution_count": 0,
     "metadata": {
      "tags": [
      ]
     },
     "output_type": "execute_result"
    },
    {
     "data": {
      "text/plain": [
       "\"ab\""
      ]
     },
     "execution_count": 0,
     "metadata": {
      "tags": [
      ]
     },
     "output_type": "execute_result"
    },
    {
     "data": {
      "text/plain": [
       "True"
      ]
     },
     "execution_count": 0,
     "metadata": {
      "tags": [
      ]
     },
     "output_type": "execute_result"
    },
    {
     "data": {
      "text/plain": [
       "True"
      ]
     },
     "execution_count": 0,
     "metadata": {
      "tags": [
      ]
     },
     "output_type": "execute_result"
    },
    {
     "data": {
      "text/plain": [
       "[1,2,3]"
      ]
     },
     "execution_count": 0,
     "metadata": {
      "tags": [
      ]
     },
     "output_type": "execute_result"
    }
   ],
   "source": [
    "'a' : 'b' : []\n",
    "'a' : 'b' : [] == ['a','b']\n",
    "['a','b','c'] == \"abc\"\n",
    "1 : [2,3]"
   ]
  },
  {
   "cell_type": "code",
   "execution_count": 0,
   "metadata": {
    "colab": {
    },
    "colab_type": "code",
    "collapsed": false,
    "id": "eLeuFpHcCYwn",
    "outputId": "e937705a-3d30-4b7d-db18-49dbe17c7712"
   },
   "outputs": [
    {
     "data": {
      "text/plain": [
       "'w'"
      ]
     },
     "execution_count": 0,
     "metadata": {
      "tags": [
      ]
     },
     "output_type": "execute_result"
    },
    {
     "data": {
      "text/plain": [
       "33.2"
      ]
     },
     "execution_count": 0,
     "metadata": {
      "tags": [
      ]
     },
     "output_type": "execute_result"
    }
   ],
   "source": [
    "\"Hello world!\" !! 6\n",
    "[9.4,33.2,96.2,11.2,23.25] !! 1  "
   ]
  },
  {
   "cell_type": "code",
   "execution_count": 0,
   "metadata": {
    "colab": {
    },
    "colab_type": "code",
    "collapsed": false,
    "id": "Sq9_F52iCYwr",
    "outputId": "e518cf9a-1ce7-4be1-e210-9c5c5523431e"
   },
   "outputs": [
    {
     "data": {
      "text/plain": [
       "[[1,2,3,4],[5,3,3,3],[1,2,2,3,4],[1,2,3]]"
      ]
     },
     "execution_count": 0,
     "metadata": {
      "tags": [
      ]
     },
     "output_type": "execute_result"
    },
    {
     "data": {
      "text/plain": [
       "[[1,2,3,4],[5,3,3,3],[1,2,2,3,4],[1,2,3],[1,1,1,1]]"
      ]
     },
     "execution_count": 0,
     "metadata": {
      "tags": [
      ]
     },
     "output_type": "execute_result"
    },
    {
     "data": {
      "text/plain": [
       "[[6,6,6],[1,2,3,4],[5,3,3,3],[1,2,2,3,4],[1,2,3]]"
      ]
     },
     "execution_count": 0,
     "metadata": {
      "tags": [
      ]
     },
     "output_type": "execute_result"
    },
    {
     "data": {
      "text/plain": [
       "[1,2,2,3,4]"
      ]
     },
     "execution_count": 0,
     "metadata": {
      "tags": [
      ]
     },
     "output_type": "execute_result"
    }
   ],
   "source": [
    "let b = [[1,2,3,4],[5,3,3,3],[1,2,2,3,4],[1,2,3]]  \n",
    "b\n",
    "b ++ [[1,1,1,1]] \n",
    "[6,6,6]:b  \n",
    "b !! 2  "
   ]
  },
  {
   "cell_type": "code",
   "execution_count": 0,
   "metadata": {
    "colab": {
    },
    "colab_type": "code",
    "collapsed": false,
    "id": "dM18bbneCYww",
    "outputId": "06e25737-d7f4-4979-dc4b-66e3e4c018d6"
   },
   "outputs": [
    {
     "data": {
      "text/plain": [
       "True"
      ]
     },
     "execution_count": 0,
     "metadata": {
      "tags": [
      ]
     },
     "output_type": "execute_result"
    },
    {
     "data": {
      "text/plain": [
       "True"
      ]
     },
     "execution_count": 0,
     "metadata": {
      "tags": [
      ]
     },
     "output_type": "execute_result"
    },
    {
     "data": {
      "text/plain": [
       "True"
      ]
     },
     "execution_count": 0,
     "metadata": {
      "tags": [
      ]
     },
     "output_type": "execute_result"
    },
    {
     "data": {
      "text/plain": [
       "True"
      ]
     },
     "execution_count": 0,
     "metadata": {
      "tags": [
      ]
     },
     "output_type": "execute_result"
    },
    {
     "data": {
      "text/plain": [
       "True"
      ]
     },
     "execution_count": 0,
     "metadata": {
      "tags": [
      ]
     },
     "output_type": "execute_result"
    }
   ],
   "source": [
    "[3,2,1] > [2,1,0]  \n",
    "[3,2,1] > [2,10,100] \n",
    "[3,4,2] > [3,4]  \n",
    "[3,4,2] > [2,4]  \n",
    "[3,4,2] == [3,4,2] "
   ]
  },
  {
   "cell_type": "code",
   "execution_count": 0,
   "metadata": {
    "colab": {
    },
    "colab_type": "code",
    "collapsed": false,
    "id": "Y4dYReW8CYwz",
    "outputId": "3b92f88c-fa36-42dc-a5b8-8ad955b5fd1a"
   },
   "outputs": [
    {
     "data": {
      "text/html": [
       "<style>/* Styles used for the Hoogle display in the pager */\n",
       ".hoogle-doc {\n",
       "display: block;\n",
       "padding-bottom: 1.3em;\n",
       "padding-left: 0.4em;\n",
       "}\n",
       ".hoogle-code {\n",
       "display: block;\n",
       "font-family: monospace;\n",
       "white-space: pre;\n",
       "}\n",
       ".hoogle-text {\n",
       "display: block;\n",
       "}\n",
       ".hoogle-name {\n",
       "color: green;\n",
       "font-weight: bold;\n",
       "}\n",
       ".hoogle-head {\n",
       "font-weight: bold;\n",
       "}\n",
       ".hoogle-sub {\n",
       "display: block;\n",
       "margin-left: 0.4em;\n",
       "}\n",
       ".hoogle-package {\n",
       "font-weight: bold;\n",
       "font-style: italic;\n",
       "}\n",
       ".hoogle-module {\n",
       "font-weight: bold;\n",
       "}\n",
       ".hoogle-class {\n",
       "font-weight: bold;\n",
       "}\n",
       ".get-type {\n",
       "color: green;\n",
       "font-weight: bold;\n",
       "font-family: monospace;\n",
       "display: block;\n",
       "white-space: pre-wrap;\n",
       "}\n",
       ".show-type {\n",
       "color: green;\n",
       "font-weight: bold;\n",
       "font-family: monospace;\n",
       "margin-left: 1em;\n",
       "}\n",
       ".mono {\n",
       "font-family: monospace;\n",
       "display: block;\n",
       "}\n",
       ".err-msg {\n",
       "color: red;\n",
       "font-style: italic;\n",
       "font-family: monospace;\n",
       "white-space: pre;\n",
       "display: block;\n",
       "}\n",
       "#unshowable {\n",
       "color: red;\n",
       "font-weight: bold;\n",
       "}\n",
       ".err-msg.in.collapse {\n",
       "padding-top: 0.7em;\n",
       "}\n",
       ".highlight-code {\n",
       "white-space: pre;\n",
       "font-family: monospace;\n",
       "}\n",
       ".suggestion-warning { \n",
       "font-weight: bold;\n",
       "color: rgb(200, 130, 0);\n",
       "}\n",
       ".suggestion-error { \n",
       "font-weight: bold;\n",
       "color: red;\n",
       "}\n",
       ".suggestion-name {\n",
       "font-weight: bold;\n",
       "}\n",
       "</style><div class=\"suggestion-name\" style=\"clear:both;\">Evaluate</div><div class=\"suggestion-row\" style=\"float: left;\"><div class=\"suggestion-warning\">Found:</div><div class=\"highlight-code\" id=\"haskell\">null []</div></div><div class=\"suggestion-row\" style=\"float: left;\"><div class=\"suggestion-warning\">Why Not:</div><div class=\"highlight-code\" id=\"haskell\">True</div></div>"
      ],
      "text/plain": [
       "Line 1: Evaluate\n",
       "Found:\n",
       "null []\n",
       "Why not:\n",
       "True"
      ]
     },
     "execution_count": 0,
     "metadata": {
      "tags": [
      ]
     },
     "output_type": "execute_result"
    },
    {
     "data": {
      "text/plain": [
       "5"
      ]
     },
     "execution_count": 0,
     "metadata": {
      "tags": [
      ]
     },
     "output_type": "execute_result"
    },
    {
     "data": {
      "text/plain": [
       "[4,3,2,1]"
      ]
     },
     "execution_count": 0,
     "metadata": {
      "tags": [
      ]
     },
     "output_type": "execute_result"
    },
    {
     "data": {
      "text/plain": [
       "1"
      ]
     },
     "execution_count": 0,
     "metadata": {
      "tags": [
      ]
     },
     "output_type": "execute_result"
    },
    {
     "data": {
      "text/plain": [
       "[5,4,3,2]"
      ]
     },
     "execution_count": 0,
     "metadata": {
      "tags": [
      ]
     },
     "output_type": "execute_result"
    },
    {
     "data": {
      "text/plain": [
       "5"
      ]
     },
     "execution_count": 0,
     "metadata": {
      "tags": [
      ]
     },
     "output_type": "execute_result"
    },
    {
     "data": {
      "text/plain": [
       "[1,2,3,4,5]"
      ]
     },
     "execution_count": 0,
     "metadata": {
      "tags": [
      ]
     },
     "output_type": "execute_result"
    },
    {
     "data": {
      "text/plain": [
       "True"
      ]
     },
     "execution_count": 0,
     "metadata": {
      "tags": [
      ]
     },
     "output_type": "execute_result"
    }
   ],
   "source": [
    "head [5,4,3,2,1]  \n",
    "tail [5,4,3,2,1]  \n",
    "last [5,4,3,2,1]  \n",
    "init [5,4,3,2,1]  \n",
    "length [5,4,3,2,1]\n",
    "reverse [5,4,3,2,1]  \n",
    "null [] "
   ]
  },
  {
   "cell_type": "code",
   "execution_count": 0,
   "metadata": {
    "colab": {
    },
    "colab_type": "code",
    "collapsed": false,
    "id": "F-7263_xCYw3",
    "outputId": "3ce8a5ba-3b74-4507-c03b-ac127bd99d31"
   },
   "outputs": [
    {
     "data": {
      "text/html": [
       "<style>/* Styles used for the Hoogle display in the pager */\n",
       ".hoogle-doc {\n",
       "display: block;\n",
       "padding-bottom: 1.3em;\n",
       "padding-left: 0.4em;\n",
       "}\n",
       ".hoogle-code {\n",
       "display: block;\n",
       "font-family: monospace;\n",
       "white-space: pre;\n",
       "}\n",
       ".hoogle-text {\n",
       "display: block;\n",
       "}\n",
       ".hoogle-name {\n",
       "color: green;\n",
       "font-weight: bold;\n",
       "}\n",
       ".hoogle-head {\n",
       "font-weight: bold;\n",
       "}\n",
       ".hoogle-sub {\n",
       "display: block;\n",
       "margin-left: 0.4em;\n",
       "}\n",
       ".hoogle-package {\n",
       "font-weight: bold;\n",
       "font-style: italic;\n",
       "}\n",
       ".hoogle-module {\n",
       "font-weight: bold;\n",
       "}\n",
       ".hoogle-class {\n",
       "font-weight: bold;\n",
       "}\n",
       ".get-type {\n",
       "color: green;\n",
       "font-weight: bold;\n",
       "font-family: monospace;\n",
       "display: block;\n",
       "white-space: pre-wrap;\n",
       "}\n",
       ".show-type {\n",
       "color: green;\n",
       "font-weight: bold;\n",
       "font-family: monospace;\n",
       "margin-left: 1em;\n",
       "}\n",
       ".mono {\n",
       "font-family: monospace;\n",
       "display: block;\n",
       "}\n",
       ".err-msg {\n",
       "color: red;\n",
       "font-style: italic;\n",
       "font-family: monospace;\n",
       "white-space: pre;\n",
       "display: block;\n",
       "}\n",
       "#unshowable {\n",
       "color: red;\n",
       "font-weight: bold;\n",
       "}\n",
       ".err-msg.in.collapse {\n",
       "padding-top: 0.7em;\n",
       "}\n",
       ".highlight-code {\n",
       "white-space: pre;\n",
       "font-family: monospace;\n",
       "}\n",
       ".suggestion-warning { \n",
       "font-weight: bold;\n",
       "color: rgb(200, 130, 0);\n",
       "}\n",
       ".suggestion-error { \n",
       "font-weight: bold;\n",
       "color: red;\n",
       "}\n",
       ".suggestion-name {\n",
       "font-weight: bold;\n",
       "}\n",
       "</style><div class=\"suggestion-name\" style=\"clear:both;\">Take on a non-positive</div><div class=\"suggestion-row\" style=\"float: left;\"><div class=\"suggestion-warning\">Found:</div><div class=\"highlight-code\" id=\"haskell\">take 0 [6, 6, 6]</div></div><div class=\"suggestion-row\" style=\"float: left;\"><div class=\"suggestion-warning\">Why Not:</div><div class=\"highlight-code\" id=\"haskell\">[]</div></div>"
      ],
      "text/plain": [
       "Line 1: Take on a non-positive\n",
       "Found:\n",
       "take 0 [6, 6, 6]\n",
       "Why not:\n",
       "[]"
      ]
     },
     "execution_count": 0,
     "metadata": {
      "tags": [
      ]
     },
     "output_type": "execute_result"
    },
    {
     "data": {
      "text/plain": [
       "[5,4,3]"
      ]
     },
     "execution_count": 0,
     "metadata": {
      "tags": [
      ]
     },
     "output_type": "execute_result"
    },
    {
     "data": {
      "text/plain": [
       "[3]"
      ]
     },
     "execution_count": 0,
     "metadata": {
      "tags": [
      ]
     },
     "output_type": "execute_result"
    },
    {
     "data": {
      "text/plain": [
       "[1,2]"
      ]
     },
     "execution_count": 0,
     "metadata": {
      "tags": [
      ]
     },
     "output_type": "execute_result"
    },
    {
     "data": {
      "text/plain": [
       "[]"
      ]
     },
     "execution_count": 0,
     "metadata": {
      "tags": [
      ]
     },
     "output_type": "execute_result"
    }
   ],
   "source": [
    "take 3 [5,4,3,2,1]  \n",
    "take 1 [3,9,3]  \n",
    "take 5 [1,2] \n",
    "take 0 [6,6,6]"
   ]
  },
  {
   "cell_type": "code",
   "execution_count": 0,
   "metadata": {
    "colab": {
    },
    "colab_type": "code",
    "collapsed": false,
    "id": "D2TjeSLVCYw7",
    "outputId": "8865893d-098c-4beb-f831-f52eb94dc37a"
   },
   "outputs": [
    {
     "data": {
      "text/plain": [
       "31"
      ]
     },
     "execution_count": 0,
     "metadata": {
      "tags": [
      ]
     },
     "output_type": "execute_result"
    },
    {
     "data": {
      "text/plain": [
       "24"
      ]
     },
     "execution_count": 0,
     "metadata": {
      "tags": [
      ]
     },
     "output_type": "execute_result"
    }
   ],
   "source": [
    "sum [5,2,1,6,3,2,5,7]  \n",
    "product [6,2,1,2]"
   ]
  },
  {
   "cell_type": "code",
   "execution_count": 0,
   "metadata": {
    "colab": {
    },
    "colab_type": "code",
    "collapsed": false,
    "id": "bgseuzlpCYw_",
    "outputId": "49d53838-41d0-4e5d-908d-9e9a7cdc659e"
   },
   "outputs": [
    {
     "data": {
      "text/plain": [
       "True"
      ]
     },
     "execution_count": 0,
     "metadata": {
      "tags": [
      ]
     },
     "output_type": "execute_result"
    },
    {
     "data": {
      "text/plain": [
       "False"
      ]
     },
     "execution_count": 0,
     "metadata": {
      "tags": [
      ]
     },
     "output_type": "execute_result"
    }
   ],
   "source": [
    "4 `elem` [3,4,5,6]\n",
    "10 `elem` [3,4,5,6]"
   ]
  },
  {
   "cell_type": "code",
   "execution_count": 0,
   "metadata": {
    "colab": {
    },
    "colab_type": "code",
    "collapsed": false,
    "id": "jhW2WzqWCYxD",
    "outputId": "32eff1cc-9785-42fc-eaa3-6064d1fef5f4"
   },
   "outputs": [
    {
     "data": {
      "text/plain": [
       "[1,2,3,4,5,6,7,8,9,10,11,12,13,14,15,16,17,18,19,20]"
      ]
     },
     "execution_count": 0,
     "metadata": {
      "tags": [
      ]
     },
     "output_type": "execute_result"
    },
    {
     "data": {
      "text/plain": [
       "\"abcdefghijklmnopqrstuvwxyz\""
      ]
     },
     "execution_count": 0,
     "metadata": {
      "tags": [
      ]
     },
     "output_type": "execute_result"
    },
    {
     "data": {
      "text/plain": [
       "\"KLMNOPQRSTUVWXYZ\""
      ]
     },
     "execution_count": 0,
     "metadata": {
      "tags": [
      ]
     },
     "output_type": "execute_result"
    },
    {
     "data": {
      "text/plain": [
       "[2,4,6,8,10,12,14,16,18,20]"
      ]
     },
     "execution_count": 0,
     "metadata": {
      "tags": [
      ]
     },
     "output_type": "execute_result"
    },
    {
     "data": {
      "text/plain": [
       "[10,9,8,7,6,5,4,3,2,1]"
      ]
     },
     "execution_count": 0,
     "metadata": {
      "tags": [
      ]
     },
     "output_type": "execute_result"
    }
   ],
   "source": [
    "[1..20]\n",
    "['a'..'z'] \n",
    "['K'..'Z'] \n",
    "[2,4..20]\n",
    "[10,9..1]"
   ]
  },
  {
   "cell_type": "code",
   "execution_count": 0,
   "metadata": {
    "colab": {
    },
    "colab_type": "code",
    "collapsed": false,
    "id": "HQ_F9ICMCYxG",
    "outputId": "30dc3294-4f1a-4aea-d82c-1049f5087ed5"
   },
   "outputs": [
    {
     "data": {
      "text/html": [
       "<style>/* Styles used for the Hoogle display in the pager */\n",
       ".hoogle-doc {\n",
       "display: block;\n",
       "padding-bottom: 1.3em;\n",
       "padding-left: 0.4em;\n",
       "}\n",
       ".hoogle-code {\n",
       "display: block;\n",
       "font-family: monospace;\n",
       "white-space: pre;\n",
       "}\n",
       ".hoogle-text {\n",
       "display: block;\n",
       "}\n",
       ".hoogle-name {\n",
       "color: green;\n",
       "font-weight: bold;\n",
       "}\n",
       ".hoogle-head {\n",
       "font-weight: bold;\n",
       "}\n",
       ".hoogle-sub {\n",
       "display: block;\n",
       "margin-left: 0.4em;\n",
       "}\n",
       ".hoogle-package {\n",
       "font-weight: bold;\n",
       "font-style: italic;\n",
       "}\n",
       ".hoogle-module {\n",
       "font-weight: bold;\n",
       "}\n",
       ".hoogle-class {\n",
       "font-weight: bold;\n",
       "}\n",
       ".get-type {\n",
       "color: green;\n",
       "font-weight: bold;\n",
       "font-family: monospace;\n",
       "display: block;\n",
       "white-space: pre-wrap;\n",
       "}\n",
       ".show-type {\n",
       "color: green;\n",
       "font-weight: bold;\n",
       "font-family: monospace;\n",
       "margin-left: 1em;\n",
       "}\n",
       ".mono {\n",
       "font-family: monospace;\n",
       "display: block;\n",
       "}\n",
       ".err-msg {\n",
       "color: red;\n",
       "font-style: italic;\n",
       "font-family: monospace;\n",
       "white-space: pre;\n",
       "display: block;\n",
       "}\n",
       "#unshowable {\n",
       "color: red;\n",
       "font-weight: bold;\n",
       "}\n",
       ".err-msg.in.collapse {\n",
       "padding-top: 0.7em;\n",
       "}\n",
       ".highlight-code {\n",
       "white-space: pre;\n",
       "font-family: monospace;\n",
       "}\n",
       ".suggestion-warning { \n",
       "font-weight: bold;\n",
       "color: rgb(200, 130, 0);\n",
       "}\n",
       ".suggestion-error { \n",
       "font-weight: bold;\n",
       "color: red;\n",
       "}\n",
       ".suggestion-name {\n",
       "font-weight: bold;\n",
       "}\n",
       "</style><div class=\"suggestion-name\" style=\"clear:both;\">Use replicate</div><div class=\"suggestion-row\" style=\"float: left;\"><div class=\"suggestion-warning\">Found:</div><div class=\"highlight-code\" id=\"haskell\">take 10 (repeat 5)</div></div><div class=\"suggestion-row\" style=\"float: left;\"><div class=\"suggestion-warning\">Why Not:</div><div class=\"highlight-code\" id=\"haskell\">replicate 10 5</div></div>"
      ],
      "text/plain": [
       "Line 1: Use replicate\n",
       "Found:\n",
       "take 10 (repeat 5)\n",
       "Why not:\n",
       "replicate 10 5"
      ]
     },
     "execution_count": 0,
     "metadata": {
      "tags": [
      ]
     },
     "output_type": "execute_result"
    },
    {
     "data": {
      "text/plain": [
       "[1,2,3,1,2,3,1,2,3,1]"
      ]
     },
     "execution_count": 0,
     "metadata": {
      "tags": [
      ]
     },
     "output_type": "execute_result"
    },
    {
     "data": {
      "text/plain": [
       "\"LOL LOL LOL \""
      ]
     },
     "execution_count": 0,
     "metadata": {
      "tags": [
      ]
     },
     "output_type": "execute_result"
    },
    {
     "data": {
      "text/plain": [
       "[5,5,5,5,5,5,5,5,5,5]"
      ]
     },
     "execution_count": 0,
     "metadata": {
      "tags": [
      ]
     },
     "output_type": "execute_result"
    }
   ],
   "source": [
    "take 10 (cycle [1,2,3])\n",
    "take 12 (cycle \"LOL \") \n",
    "take 10 (repeat 5)  "
   ]
  },
  {
   "cell_type": "markdown",
   "metadata": {
    "colab_type": "text",
    "collapsed": false,
    "id": "uon-_UqTCYxJ"
   },
   "source": [
    "### Exemplo 3"
   ]
  },
  {
   "cell_type": "markdown",
   "metadata": {
    "colab_type": "text",
    "collapsed": false,
    "id": "QPdQDCTVCYxK"
   },
   "source": [
    "$\\{ x^2 \\mid x \\in \\mathbb{N}, x < 10\\}$"
   ]
  },
  {
   "cell_type": "code",
   "execution_count": 0,
   "metadata": {
    "colab": {
    },
    "colab_type": "code",
    "collapsed": false,
    "id": "AzdQ1588CYxL",
    "outputId": "e26235ab-b1a6-4947-d318-93b9f55a9c17"
   },
   "outputs": [
    {
     "data": {
      "text/plain": [
       "[2,4,6,8,10,12,14,16,18,20]"
      ]
     },
     "execution_count": 0,
     "metadata": {
      "tags": [
      ]
     },
     "output_type": "execute_result"
    }
   ],
   "source": [
    "[x*2 | x <- [1..10]]  "
   ]
  },
  {
   "cell_type": "code",
   "execution_count": 0,
   "metadata": {
    "colab": {
    },
    "colab_type": "code",
    "collapsed": false,
    "id": "AqL2ZvXICYxQ",
    "outputId": "9d89c99e-ab14-4498-8d99-62db6f999902"
   },
   "outputs": [
    {
     "data": {
      "text/plain": [
       "[12,14,16,18,20]"
      ]
     },
     "execution_count": 0,
     "metadata": {
      "tags": [
      ]
     },
     "output_type": "execute_result"
    },
    {
     "data": {
      "text/plain": [
       "[52,59,66,73,80,87,94]"
      ]
     },
     "execution_count": 0,
     "metadata": {
      "tags": [
      ]
     },
     "output_type": "execute_result"
    }
   ],
   "source": [
    "[x*2 | x <- [1..10], x*2 >= 12]  \n",
    "[ x | x <- [50..100], x `mod` 7 == 3]"
   ]
  },
  {
   "cell_type": "code",
   "execution_count": 0,
   "metadata": {
    "colab": {
    },
    "colab_type": "code",
    "collapsed": false,
    "id": "csh7TKY4CYxW",
    "outputId": "6c3db63c-4090-4a1f-9401-68feca52fc7b"
   },
   "outputs": [
    {
     "data": {
      "text/plain": [
       "[\"BOOM!\",\"BOOM!\",\"BANG!\",\"BANG!\"]"
      ]
     },
     "execution_count": 0,
     "metadata": {
      "tags": [
      ]
     },
     "output_type": "execute_result"
    }
   ],
   "source": [
    "boomBangs xs = [ if x < 10 then \"BOOM!\" else \"BANG!\" | x <- xs, odd x]   \n",
    "boomBangs [7..13]   "
   ]
  },
  {
   "cell_type": "code",
   "execution_count": 0,
   "metadata": {
    "colab": {
    },
    "colab_type": "code",
    "collapsed": false,
    "id": "hvC29gOACYxe",
    "outputId": "483cbf43-1523-472e-aeaa-1c607d3507d1"
   },
   "outputs": [
    {
     "data": {
      "text/plain": [
       "[10,11,12,14,16,17,18,20]"
      ]
     },
     "execution_count": 0,
     "metadata": {
      "tags": [
      ]
     },
     "output_type": "execute_result"
    }
   ],
   "source": [
    "[ x | x <- [10..20], x /= 13, x /= 15, x /= 19] "
   ]
  },
  {
   "cell_type": "code",
   "execution_count": 0,
   "metadata": {
    "colab": {
    },
    "colab_type": "code",
    "collapsed": false,
    "id": "oxeGBYlpCYxk",
    "outputId": "e5d1be7f-a120-4e91-c740-b7a385e58367"
   },
   "outputs": [
    {
     "data": {
      "text/plain": [
       "[55,80,100,110]"
      ]
     },
     "execution_count": 0,
     "metadata": {
      "tags": [
      ]
     },
     "output_type": "execute_result"
    }
   ],
   "source": [
    "[ x*y | x <- [2,5,10], y <- [8,10,11], x*y > 50]"
   ]
  },
  {
   "cell_type": "code",
   "execution_count": 0,
   "metadata": {
    "colab": {
    },
    "colab_type": "code",
    "collapsed": false,
    "id": "HVtpcezaCYxo",
    "outputId": "b51738dd-5fa7-4075-e2b0-ae701adbca6d"
   },
   "outputs": [
    {
     "data": {
      "text/plain": [
       "[\"lazy hobo\",\"lazy frog\",\"lazy pope\",\"grouchy hobo\",\"grouchy frog\",\"grouchy pope\",\"scheming hobo\",\"scheming frog\",\"scheming pope\"]"
      ]
     },
     "execution_count": 0,
     "metadata": {
      "tags": [
      ]
     },
     "output_type": "execute_result"
    }
   ],
   "source": [
    "let nouns = [\"hobo\",\"frog\",\"pope\"]  \n",
    "let adjectives = [\"lazy\",\"grouchy\",\"scheming\"]  \n",
    "[adjective ++ \" \" ++ noun | adjective <- adjectives, noun <- nouns]  "
   ]
  },
  {
   "cell_type": "code",
   "execution_count": 0,
   "metadata": {
    "colab": {
    },
    "colab_type": "code",
    "collapsed": false,
    "id": "UvxhIYH-CYxs",
    "outputId": "1252f81f-760c-43f4-d253-61d106d783c0"
   },
   "outputs": [
    {
     "data": {
      "text/plain": [
       "3"
      ]
     },
     "execution_count": 0,
     "metadata": {
      "tags": [
      ]
     },
     "output_type": "execute_result"
    }
   ],
   "source": [
    "length' xs = sum [1 | _ <- xs]   \n",
    "length'[11,35,90]"
   ]
  },
  {
   "cell_type": "code",
   "execution_count": 0,
   "metadata": {
    "colab": {
    },
    "colab_type": "code",
    "collapsed": false,
    "id": "d_jJqgAICYxx",
    "outputId": "16845156-6d25-464c-adb6-6a70613ab34c",
    "scrolled": true
   },
   "outputs": [
    {
     "data": {
      "text/plain": [
       "\"HA\""
      ]
     },
     "execution_count": 0,
     "metadata": {
      "tags": [
      ]
     },
     "output_type": "execute_result"
    }
   ],
   "source": [
    "removeNonUppercase st = [ c | c <- st, c `elem` ['A'..'Z']]\n",
    "removeNonUppercase \"Hahaha! Ahahaha!\"  "
   ]
  },
  {
   "cell_type": "markdown",
   "metadata": {
    "colab_type": "text",
    "collapsed": false,
    "id": "2x-vys1YCYx1"
   },
   "source": [
    "### Exemplo 4"
   ]
  },
  {
   "cell_type": "code",
   "execution_count": 0,
   "metadata": {
    "colab": {
    },
    "colab_type": "code",
    "collapsed": false,
    "id": "gWP5trcJCYx2",
    "outputId": "fcab02a0-33cf-40cd-af78-6d8084cf239a"
   },
   "outputs": [
    {
     "data": {
      "text/plain": [
       "(\"fulano\",123)"
      ]
     },
     "execution_count": 0,
     "metadata": {
      "tags": [
      ]
     },
     "output_type": "execute_result"
    }
   ],
   "source": [
    "(\"fulano\", 123) -- tupla"
   ]
  },
  {
   "cell_type": "code",
   "execution_count": 0,
   "metadata": {
    "colab": {
    },
    "colab_type": "code",
    "collapsed": false,
    "id": "oVBNSn0yCYx5",
    "outputId": "ebaa0b9b-9db0-442e-e598-0763c82f2ac2"
   },
   "outputs": [
    {
     "data": {
      "text/plain": [
       "8"
      ]
     },
     "execution_count": 0,
     "metadata": {
      "tags": [
      ]
     },
     "output_type": "execute_result"
    },
    {
     "data": {
      "text/plain": [
       "11"
      ]
     },
     "execution_count": 0,
     "metadata": {
      "tags": [
      ]
     },
     "output_type": "execute_result"
    }
   ],
   "source": [
    "fst (8,11) -- apenas para pares!\n",
    "snd (8,11) -- apenas para pares!"
   ]
  },
  {
   "cell_type": "code",
   "execution_count": 0,
   "metadata": {
    "colab": {
    },
    "colab_type": "code",
    "collapsed": false,
    "id": "I_ZV0ldNCYx9",
    "outputId": "50afcfb1-4124-4e11-d171-d3f18e2b9e43"
   },
   "outputs": [
    {
     "data": {
      "text/plain": [
       "[(1,5),(2,5),(3,5),(4,5),(5,5)]"
      ]
     },
     "execution_count": 0,
     "metadata": {
      "tags": [
      ]
     },
     "output_type": "execute_result"
    },
    {
     "data": {
      "text/plain": [
       "[(1,\"one\"),(2,\"two\"),(3,\"three\"),(4,\"four\"),(5,\"five\")]"
      ]
     },
     "execution_count": 0,
     "metadata": {
      "tags": [
      ]
     },
     "output_type": "execute_result"
    }
   ],
   "source": [
    "zip [1,2,3,4,5] [5,5,5,5,5]\n",
    "zip [1 .. 5] [\"one\", \"two\", \"three\", \"four\", \"five\"] "
   ]
  },
  {
   "cell_type": "code",
   "execution_count": 0,
   "metadata": {
    "colab": {
    },
    "colab_type": "code",
    "collapsed": false,
    "id": "WBAU1sWFCYyA"
   },
   "outputs": [
   ],
   "source": [
    "let triangles = [ (a,b,c) | c <- [1..10], b <- [1..10], a <- [1..10] ]\n",
    "--triangles"
   ]
  },
  {
   "cell_type": "code",
   "execution_count": 0,
   "metadata": {
    "colab": {
    },
    "colab_type": "code",
    "collapsed": false,
    "id": "gflbpA2NCYyC",
    "outputId": "a8413b5a-a9ae-4429-b3d4-145660013e01"
   },
   "outputs": [
    {
     "data": {
      "text/plain": [
       "[(3,4,5),(6,8,10)]"
      ]
     },
     "execution_count": 0,
     "metadata": {
      "tags": [
      ]
     },
     "output_type": "execute_result"
    }
   ],
   "source": [
    "let rightTriangles = [ (a,b,c) | c <- [1..10], b <- [1..c], a <- [1..b], a^2 + b^2 == c^2]   \n",
    "rightTriangles"
   ]
  },
  {
   "cell_type": "markdown",
   "metadata": {
    "colab_type": "text",
    "collapsed": false,
    "id": "rkpGxztLCYyH"
   },
   "source": [
    "### Exemplo 5"
   ]
  },
  {
   "cell_type": "code",
   "execution_count": 0,
   "metadata": {
    "colab": {
    },
    "colab_type": "code",
    "collapsed": false,
    "id": "pGKPRmdLCYyI",
    "outputId": "47804826-54fa-41d8-805a-5c4fbdb57c45"
   },
   "outputs": [
    {
     "data": {
      "text/html": [
       "<style>/* Styles used for the Hoogle display in the pager */\n",
       ".hoogle-doc {\n",
       "display: block;\n",
       "padding-bottom: 1.3em;\n",
       "padding-left: 0.4em;\n",
       "}\n",
       ".hoogle-code {\n",
       "display: block;\n",
       "font-family: monospace;\n",
       "white-space: pre;\n",
       "}\n",
       ".hoogle-text {\n",
       "display: block;\n",
       "}\n",
       ".hoogle-name {\n",
       "color: green;\n",
       "font-weight: bold;\n",
       "}\n",
       ".hoogle-head {\n",
       "font-weight: bold;\n",
       "}\n",
       ".hoogle-sub {\n",
       "display: block;\n",
       "margin-left: 0.4em;\n",
       "}\n",
       ".hoogle-package {\n",
       "font-weight: bold;\n",
       "font-style: italic;\n",
       "}\n",
       ".hoogle-module {\n",
       "font-weight: bold;\n",
       "}\n",
       ".hoogle-class {\n",
       "font-weight: bold;\n",
       "}\n",
       ".get-type {\n",
       "color: green;\n",
       "font-weight: bold;\n",
       "font-family: monospace;\n",
       "display: block;\n",
       "white-space: pre-wrap;\n",
       "}\n",
       ".show-type {\n",
       "color: green;\n",
       "font-weight: bold;\n",
       "font-family: monospace;\n",
       "margin-left: 1em;\n",
       "}\n",
       ".mono {\n",
       "font-family: monospace;\n",
       "display: block;\n",
       "}\n",
       ".err-msg {\n",
       "color: red;\n",
       "font-style: italic;\n",
       "font-family: monospace;\n",
       "white-space: pre;\n",
       "display: block;\n",
       "}\n",
       "#unshowable {\n",
       "color: red;\n",
       "font-weight: bold;\n",
       "}\n",
       ".err-msg.in.collapse {\n",
       "padding-top: 0.7em;\n",
       "}\n",
       ".highlight-code {\n",
       "white-space: pre;\n",
       "font-family: monospace;\n",
       "}\n",
       ".suggestion-warning { \n",
       "font-weight: bold;\n",
       "color: rgb(200, 130, 0);\n",
       "}\n",
       ".suggestion-error { \n",
       "font-weight: bold;\n",
       "color: red;\n",
       "}\n",
       ".suggestion-name {\n",
       "font-weight: bold;\n",
       "}\n",
       "</style><span class='get-type'>'a' :: Char</span>"
      ],
      "text/plain": [
       "'a' :: Char"
      ]
     },
     "execution_count": 0,
     "metadata": {
      "tags": [
      ]
     },
     "output_type": "execute_result"
    },
    {
     "data": {
      "text/html": [
       "<style>/* Styles used for the Hoogle display in the pager */\n",
       ".hoogle-doc {\n",
       "display: block;\n",
       "padding-bottom: 1.3em;\n",
       "padding-left: 0.4em;\n",
       "}\n",
       ".hoogle-code {\n",
       "display: block;\n",
       "font-family: monospace;\n",
       "white-space: pre;\n",
       "}\n",
       ".hoogle-text {\n",
       "display: block;\n",
       "}\n",
       ".hoogle-name {\n",
       "color: green;\n",
       "font-weight: bold;\n",
       "}\n",
       ".hoogle-head {\n",
       "font-weight: bold;\n",
       "}\n",
       ".hoogle-sub {\n",
       "display: block;\n",
       "margin-left: 0.4em;\n",
       "}\n",
       ".hoogle-package {\n",
       "font-weight: bold;\n",
       "font-style: italic;\n",
       "}\n",
       ".hoogle-module {\n",
       "font-weight: bold;\n",
       "}\n",
       ".hoogle-class {\n",
       "font-weight: bold;\n",
       "}\n",
       ".get-type {\n",
       "color: green;\n",
       "font-weight: bold;\n",
       "font-family: monospace;\n",
       "display: block;\n",
       "white-space: pre-wrap;\n",
       "}\n",
       ".show-type {\n",
       "color: green;\n",
       "font-weight: bold;\n",
       "font-family: monospace;\n",
       "margin-left: 1em;\n",
       "}\n",
       ".mono {\n",
       "font-family: monospace;\n",
       "display: block;\n",
       "}\n",
       ".err-msg {\n",
       "color: red;\n",
       "font-style: italic;\n",
       "font-family: monospace;\n",
       "white-space: pre;\n",
       "display: block;\n",
       "}\n",
       "#unshowable {\n",
       "color: red;\n",
       "font-weight: bold;\n",
       "}\n",
       ".err-msg.in.collapse {\n",
       "padding-top: 0.7em;\n",
       "}\n",
       ".highlight-code {\n",
       "white-space: pre;\n",
       "font-family: monospace;\n",
       "}\n",
       ".suggestion-warning { \n",
       "font-weight: bold;\n",
       "color: rgb(200, 130, 0);\n",
       "}\n",
       ".suggestion-error { \n",
       "font-weight: bold;\n",
       "color: red;\n",
       "}\n",
       ".suggestion-name {\n",
       "font-weight: bold;\n",
       "}\n",
       "</style><span class='get-type'>5 :: forall p. Num p => p</span>"
      ],
      "text/plain": [
       "5 :: forall p. Num p => p"
      ]
     },
     "execution_count": 0,
     "metadata": {
      "tags": [
      ]
     },
     "output_type": "execute_result"
    },
    {
     "data": {
      "text/html": [
       "<style>/* Styles used for the Hoogle display in the pager */\n",
       ".hoogle-doc {\n",
       "display: block;\n",
       "padding-bottom: 1.3em;\n",
       "padding-left: 0.4em;\n",
       "}\n",
       ".hoogle-code {\n",
       "display: block;\n",
       "font-family: monospace;\n",
       "white-space: pre;\n",
       "}\n",
       ".hoogle-text {\n",
       "display: block;\n",
       "}\n",
       ".hoogle-name {\n",
       "color: green;\n",
       "font-weight: bold;\n",
       "}\n",
       ".hoogle-head {\n",
       "font-weight: bold;\n",
       "}\n",
       ".hoogle-sub {\n",
       "display: block;\n",
       "margin-left: 0.4em;\n",
       "}\n",
       ".hoogle-package {\n",
       "font-weight: bold;\n",
       "font-style: italic;\n",
       "}\n",
       ".hoogle-module {\n",
       "font-weight: bold;\n",
       "}\n",
       ".hoogle-class {\n",
       "font-weight: bold;\n",
       "}\n",
       ".get-type {\n",
       "color: green;\n",
       "font-weight: bold;\n",
       "font-family: monospace;\n",
       "display: block;\n",
       "white-space: pre-wrap;\n",
       "}\n",
       ".show-type {\n",
       "color: green;\n",
       "font-weight: bold;\n",
       "font-family: monospace;\n",
       "margin-left: 1em;\n",
       "}\n",
       ".mono {\n",
       "font-family: monospace;\n",
       "display: block;\n",
       "}\n",
       ".err-msg {\n",
       "color: red;\n",
       "font-style: italic;\n",
       "font-family: monospace;\n",
       "white-space: pre;\n",
       "display: block;\n",
       "}\n",
       "#unshowable {\n",
       "color: red;\n",
       "font-weight: bold;\n",
       "}\n",
       ".err-msg.in.collapse {\n",
       "padding-top: 0.7em;\n",
       "}\n",
       ".highlight-code {\n",
       "white-space: pre;\n",
       "font-family: monospace;\n",
       "}\n",
       ".suggestion-warning { \n",
       "font-weight: bold;\n",
       "color: rgb(200, 130, 0);\n",
       "}\n",
       ".suggestion-error { \n",
       "font-weight: bold;\n",
       "color: red;\n",
       "}\n",
       ".suggestion-name {\n",
       "font-weight: bold;\n",
       "}\n",
       "</style><span class='get-type'>\"HELLO!\" :: [Char]</span>"
      ],
      "text/plain": [
       "\"HELLO!\" :: [Char]"
      ]
     },
     "execution_count": 0,
     "metadata": {
      "tags": [
      ]
     },
     "output_type": "execute_result"
    },
    {
     "data": {
      "text/html": [
       "<style>/* Styles used for the Hoogle display in the pager */\n",
       ".hoogle-doc {\n",
       "display: block;\n",
       "padding-bottom: 1.3em;\n",
       "padding-left: 0.4em;\n",
       "}\n",
       ".hoogle-code {\n",
       "display: block;\n",
       "font-family: monospace;\n",
       "white-space: pre;\n",
       "}\n",
       ".hoogle-text {\n",
       "display: block;\n",
       "}\n",
       ".hoogle-name {\n",
       "color: green;\n",
       "font-weight: bold;\n",
       "}\n",
       ".hoogle-head {\n",
       "font-weight: bold;\n",
       "}\n",
       ".hoogle-sub {\n",
       "display: block;\n",
       "margin-left: 0.4em;\n",
       "}\n",
       ".hoogle-package {\n",
       "font-weight: bold;\n",
       "font-style: italic;\n",
       "}\n",
       ".hoogle-module {\n",
       "font-weight: bold;\n",
       "}\n",
       ".hoogle-class {\n",
       "font-weight: bold;\n",
       "}\n",
       ".get-type {\n",
       "color: green;\n",
       "font-weight: bold;\n",
       "font-family: monospace;\n",
       "display: block;\n",
       "white-space: pre-wrap;\n",
       "}\n",
       ".show-type {\n",
       "color: green;\n",
       "font-weight: bold;\n",
       "font-family: monospace;\n",
       "margin-left: 1em;\n",
       "}\n",
       ".mono {\n",
       "font-family: monospace;\n",
       "display: block;\n",
       "}\n",
       ".err-msg {\n",
       "color: red;\n",
       "font-style: italic;\n",
       "font-family: monospace;\n",
       "white-space: pre;\n",
       "display: block;\n",
       "}\n",
       "#unshowable {\n",
       "color: red;\n",
       "font-weight: bold;\n",
       "}\n",
       ".err-msg.in.collapse {\n",
       "padding-top: 0.7em;\n",
       "}\n",
       ".highlight-code {\n",
       "white-space: pre;\n",
       "font-family: monospace;\n",
       "}\n",
       ".suggestion-warning { \n",
       "font-weight: bold;\n",
       "color: rgb(200, 130, 0);\n",
       "}\n",
       ".suggestion-error { \n",
       "font-weight: bold;\n",
       "color: red;\n",
       "}\n",
       ".suggestion-name {\n",
       "font-weight: bold;\n",
       "}\n",
       "</style><span class='get-type'>head :: forall a. [a] -> a</span>"
      ],
      "text/plain": [
       "head :: forall a. [a] -> a"
      ]
     },
     "execution_count": 0,
     "metadata": {
      "tags": [
      ]
     },
     "output_type": "execute_result"
    },
    {
     "data": {
      "text/html": [
       "<style>/* Styles used for the Hoogle display in the pager */\n",
       ".hoogle-doc {\n",
       "display: block;\n",
       "padding-bottom: 1.3em;\n",
       "padding-left: 0.4em;\n",
       "}\n",
       ".hoogle-code {\n",
       "display: block;\n",
       "font-family: monospace;\n",
       "white-space: pre;\n",
       "}\n",
       ".hoogle-text {\n",
       "display: block;\n",
       "}\n",
       ".hoogle-name {\n",
       "color: green;\n",
       "font-weight: bold;\n",
       "}\n",
       ".hoogle-head {\n",
       "font-weight: bold;\n",
       "}\n",
       ".hoogle-sub {\n",
       "display: block;\n",
       "margin-left: 0.4em;\n",
       "}\n",
       ".hoogle-package {\n",
       "font-weight: bold;\n",
       "font-style: italic;\n",
       "}\n",
       ".hoogle-module {\n",
       "font-weight: bold;\n",
       "}\n",
       ".hoogle-class {\n",
       "font-weight: bold;\n",
       "}\n",
       ".get-type {\n",
       "color: green;\n",
       "font-weight: bold;\n",
       "font-family: monospace;\n",
       "display: block;\n",
       "white-space: pre-wrap;\n",
       "}\n",
       ".show-type {\n",
       "color: green;\n",
       "font-weight: bold;\n",
       "font-family: monospace;\n",
       "margin-left: 1em;\n",
       "}\n",
       ".mono {\n",
       "font-family: monospace;\n",
       "display: block;\n",
       "}\n",
       ".err-msg {\n",
       "color: red;\n",
       "font-style: italic;\n",
       "font-family: monospace;\n",
       "white-space: pre;\n",
       "display: block;\n",
       "}\n",
       "#unshowable {\n",
       "color: red;\n",
       "font-weight: bold;\n",
       "}\n",
       ".err-msg.in.collapse {\n",
       "padding-top: 0.7em;\n",
       "}\n",
       ".highlight-code {\n",
       "white-space: pre;\n",
       "font-family: monospace;\n",
       "}\n",
       ".suggestion-warning { \n",
       "font-weight: bold;\n",
       "color: rgb(200, 130, 0);\n",
       "}\n",
       ".suggestion-error { \n",
       "font-weight: bold;\n",
       "color: red;\n",
       "}\n",
       ".suggestion-name {\n",
       "font-weight: bold;\n",
       "}\n",
       "</style><span class='get-type'>factorial :: forall a. (Num a, Enum a) => a -> a</span>"
      ],
      "text/plain": [
       "factorial :: forall a. (Num a, Enum a) => a -> a"
      ]
     },
     "execution_count": 0,
     "metadata": {
      "tags": [
      ]
     },
     "output_type": "execute_result"
    }
   ],
   "source": [
    ":t 'a'\n",
    ":t 5\n",
    ":t \"HELLO!\"  \n",
    ":t head  \n",
    ":t factorial"
   ]
  },
  {
   "cell_type": "markdown",
   "metadata": {
    "colab_type": "text",
    "collapsed": false,
    "id": "bpURZG8PCYyM"
   },
   "source": [
    "### Exemplo 6"
   ]
  },
  {
   "cell_type": "code",
   "execution_count": 0,
   "metadata": {
    "colab": {
    },
    "colab_type": "code",
    "collapsed": false,
    "id": "7PQzcBxsCYyM",
    "outputId": "03ad3eaa-17a0-4a9e-c0c5-c1b8c4f88f52"
   },
   "outputs": [
    {
     "data": {
      "text/plain": [
       "\"Sorry, you're out of luck, pal!\""
      ]
     },
     "execution_count": 0,
     "metadata": {
      "tags": [
      ]
     },
     "output_type": "execute_result"
    },
    {
     "data": {
      "text/plain": [
       "\"LUCKY NUMBER SEVEN!\""
      ]
     },
     "execution_count": 0,
     "metadata": {
      "tags": [
      ]
     },
     "output_type": "execute_result"
    }
   ],
   "source": [
    "lucky :: (Integral a) => a -> String  \n",
    "lucky 7 = \"LUCKY NUMBER SEVEN!\"  \n",
    "lucky x = \"Sorry, you're out of luck, pal!\"   \n",
    "lucky 5\n",
    "lucky 7"
   ]
  },
  {
   "cell_type": "code",
   "execution_count": 0,
   "metadata": {
    "colab": {
    },
    "colab_type": "code",
    "collapsed": false,
    "id": "OOVbjFWLCYyO",
    "outputId": "903cb7fa-cfcc-42ac-d3ec-07e3df58b9a8"
   },
   "outputs": [
    {
     "data": {
      "text/plain": [
       "\"Three!\""
      ]
     },
     "execution_count": 0,
     "metadata": {
      "tags": [
      ]
     },
     "output_type": "execute_result"
    },
    {
     "data": {
      "text/plain": [
       "\"Not between 1 and 5\""
      ]
     },
     "execution_count": 0,
     "metadata": {
      "tags": [
      ]
     },
     "output_type": "execute_result"
    }
   ],
   "source": [
    "sayMe :: (Integral a) => a -> String  \n",
    "sayMe 1 = \"One!\"  \n",
    "sayMe 2 = \"Two!\"  \n",
    "sayMe 3 = \"Three!\"  \n",
    "sayMe 4 = \"Four!\"  \n",
    "sayMe 5 = \"Five!\"  \n",
    "sayMe x = \"Not between 1 and 5\"  \n",
    "sayMe 3\n",
    "sayMe 10"
   ]
  },
  {
   "cell_type": "code",
   "execution_count": 0,
   "metadata": {
    "colab": {
    },
    "colab_type": "code",
    "collapsed": false,
    "id": "hKf5-JOzCYyS",
    "outputId": "1a08c884-bc8b-4067-f6fa-ce7b38eeba9b"
   },
   "outputs": [
    {
     "data": {
      "text/plain": [
       "120"
      ]
     },
     "execution_count": 0,
     "metadata": {
      "tags": [
      ]
     },
     "output_type": "execute_result"
    }
   ],
   "source": [
    "factorial :: (Integral a) => a -> a  \n",
    "factorial 0 = 1  \n",
    "factorial n = n * factorial (n - 1) \n",
    "factorial 5"
   ]
  },
  {
   "cell_type": "code",
   "execution_count": 0,
   "metadata": {
    "colab": {
    },
    "colab_type": "code",
    "collapsed": false,
    "id": "Wqs4N-_jCYyW",
    "outputId": "a2fae7eb-af4c-4219-f090-e4b9f592a488"
   },
   "outputs": [
    {
     "data": {
      "text/plain": [
       "(2,4)"
      ]
     },
     "execution_count": 0,
     "metadata": {
      "tags": [
      ]
     },
     "output_type": "execute_result"
    }
   ],
   "source": [
    "addVectors :: (Num a) => (a, a) -> (a, a) -> (a, a)  \n",
    "addVectors a b = (fst a + fst b, snd a + snd b)  \n",
    "addVectors (1, 2) (1, 2)"
   ]
  },
  {
   "cell_type": "code",
   "execution_count": 0,
   "metadata": {
    "colab": {
    },
    "colab_type": "code",
    "collapsed": false,
    "id": "qzOCXyp-CYyb",
    "outputId": "c442dd1e-2c12-4fbd-d428-31aedd2b0671"
   },
   "outputs": [
    {
     "data": {
      "text/plain": [
       "\"Peso abaixo do normal!\""
      ]
     },
     "execution_count": 0,
     "metadata": {
      "tags": [
      ]
     },
     "output_type": "execute_result"
    },
    {
     "data": {
      "text/plain": [
       "\"Peso normal.\""
      ]
     },
     "execution_count": 0,
     "metadata": {
      "tags": [
      ]
     },
     "output_type": "execute_result"
    },
    {
     "data": {
      "text/plain": [
       "\"Peso acima do normal!\""
      ]
     },
     "execution_count": 0,
     "metadata": {
      "tags": [
      ]
     },
     "output_type": "execute_result"
    },
    {
     "data": {
      "text/plain": [
       "\"Peso MUITO acima do normal!!\""
      ]
     },
     "execution_count": 0,
     "metadata": {
      "tags": [
      ]
     },
     "output_type": "execute_result"
    }
   ],
   "source": [
    "resIMC :: (RealFloat a) => a -> String  \n",
    "resIMC imc\n",
    "    | imc <= 18.5 = \"Peso abaixo do normal!\"  \n",
    "    | imc <= 25.0 = \"Peso normal.\"  \n",
    "    | imc <= 30.0 = \"Peso acima do normal!\"  \n",
    "    | otherwise   = \"Peso MUITO acima do normal!!\" \n",
    "resIMC 18\n",
    "resIMC 20\n",
    "resIMC 27\n",
    "resIMC 35"
   ]
  },
  {
   "cell_type": "code",
   "execution_count": 0,
   "metadata": {
    "colab": {
    },
    "colab_type": "code",
    "collapsed": false,
    "id": "s4msvtG4CYyh",
    "outputId": "4a88e761-c367-42ec-f285-aa688718b257"
   },
   "outputs": [
    {
     "data": {
      "text/plain": [
       "\"Peso abaixo do normal!\""
      ]
     },
     "execution_count": 0,
     "metadata": {
      "tags": [
      ]
     },
     "output_type": "execute_result"
    },
    {
     "data": {
      "text/plain": [
       "\"Peso normal.\""
      ]
     },
     "execution_count": 0,
     "metadata": {
      "tags": [
      ]
     },
     "output_type": "execute_result"
    },
    {
     "data": {
      "text/plain": [
       "\"Peso acima do normal!\""
      ]
     },
     "execution_count": 0,
     "metadata": {
      "tags": [
      ]
     },
     "output_type": "execute_result"
    },
    {
     "data": {
      "text/plain": [
       "\"Peso MUITO acima do normal!!\""
      ]
     },
     "execution_count": 0,
     "metadata": {
      "tags": [
      ]
     },
     "output_type": "execute_result"
    }
   ],
   "source": [
    "calcIMC :: (RealFloat a) => a -> a -> String  \n",
    "calcIMC peso altura  \n",
    "    | imc <= 18.5 = \"Peso abaixo do normal!\"  \n",
    "    | imc <= 25.0 = \"Peso normal.\"  \n",
    "    | imc <= 30.0 = \"Peso acima do normal!\"  \n",
    "    | otherwise   = \"Peso MUITO acima do normal!!\" \n",
    "    where imc = peso / altura ^ 2  \n",
    "calcIMC 50 1.9\n",
    "calcIMC 70 1.9\n",
    "calcIMC 70 1.6\n",
    "calcIMC 70 1.5"
   ]
  },
  {
   "cell_type": "code",
   "execution_count": 0,
   "metadata": {
    "colab": {
    },
    "colab_type": "code",
    "collapsed": false,
    "id": "o8fbLA1MCYyl",
    "outputId": "24174251-3469-4b03-cc80-84800a662685"
   },
   "outputs": [
    {
     "data": {
      "text/plain": [
       "150.79644737231007"
      ]
     },
     "execution_count": 0,
     "metadata": {
      "tags": [
      ]
     },
     "output_type": "execute_result"
    }
   ],
   "source": [
    "cylinder :: (RealFloat a) => a -> a -> a  \n",
    "cylinder r h = \n",
    "    let sideArea = 2 * pi * r * h  \n",
    "        topArea = pi * r ^2  \n",
    "    in  sideArea + 2 * topArea\n",
    "cylinder 3 5"
   ]
  },
  {
   "cell_type": "markdown",
   "metadata": {
    "colab_type": "text",
    "collapsed": false,
    "id": "PZ8jhz9gCYyr"
   },
   "source": [
    "### Exemplo 7"
   ]
  },
  {
   "cell_type": "code",
   "execution_count": 0,
   "metadata": {
    "colab": {
    },
    "colab_type": "code",
    "collapsed": false,
    "id": "cyjaJW8ICYyr",
    "outputId": "392792f5-08d6-4d9a-8ecd-2d84f7deb2b4"
   },
   "outputs": [
    {
     "data": {
      "text/plain": [
       "16"
      ]
     },
     "execution_count": 0,
     "metadata": {
      "tags": [
      ]
     },
     "output_type": "execute_result"
    },
    {
     "data": {
      "text/plain": [
       "160"
      ]
     },
     "execution_count": 0,
     "metadata": {
      "tags": [
      ]
     },
     "output_type": "execute_result"
    },
    {
     "data": {
      "text/plain": [
       "\"fulano\""
      ]
     },
     "execution_count": 0,
     "metadata": {
      "tags": [
      ]
     },
     "output_type": "execute_result"
    }
   ],
   "source": [
    "let x = 4 in x * x\n",
    "let y = 8 * 10 in y + y\n",
    "let s = (\"fulano\", 123) in fst s"
   ]
  },
  {
   "cell_type": "code",
   "execution_count": 0,
   "metadata": {
    "colab": {
    },
    "colab_type": "code",
    "collapsed": false,
    "id": "xcFpL1BCCYyw",
    "outputId": "23ece933-971c-4f75-c9de-016e1a2a1b16"
   },
   "outputs": [
    {
     "data": {
      "text/html": [
       "<style>/* Styles used for the Hoogle display in the pager */\n",
       ".hoogle-doc {\n",
       "display: block;\n",
       "padding-bottom: 1.3em;\n",
       "padding-left: 0.4em;\n",
       "}\n",
       ".hoogle-code {\n",
       "display: block;\n",
       "font-family: monospace;\n",
       "white-space: pre;\n",
       "}\n",
       ".hoogle-text {\n",
       "display: block;\n",
       "}\n",
       ".hoogle-name {\n",
       "color: green;\n",
       "font-weight: bold;\n",
       "}\n",
       ".hoogle-head {\n",
       "font-weight: bold;\n",
       "}\n",
       ".hoogle-sub {\n",
       "display: block;\n",
       "margin-left: 0.4em;\n",
       "}\n",
       ".hoogle-package {\n",
       "font-weight: bold;\n",
       "font-style: italic;\n",
       "}\n",
       ".hoogle-module {\n",
       "font-weight: bold;\n",
       "}\n",
       ".hoogle-class {\n",
       "font-weight: bold;\n",
       "}\n",
       ".get-type {\n",
       "color: green;\n",
       "font-weight: bold;\n",
       "font-family: monospace;\n",
       "display: block;\n",
       "white-space: pre-wrap;\n",
       "}\n",
       ".show-type {\n",
       "color: green;\n",
       "font-weight: bold;\n",
       "font-family: monospace;\n",
       "margin-left: 1em;\n",
       "}\n",
       ".mono {\n",
       "font-family: monospace;\n",
       "display: block;\n",
       "}\n",
       ".err-msg {\n",
       "color: red;\n",
       "font-style: italic;\n",
       "font-family: monospace;\n",
       "white-space: pre;\n",
       "display: block;\n",
       "}\n",
       "#unshowable {\n",
       "color: red;\n",
       "font-weight: bold;\n",
       "}\n",
       ".err-msg.in.collapse {\n",
       "padding-top: 0.7em;\n",
       "}\n",
       ".highlight-code {\n",
       "white-space: pre;\n",
       "font-family: monospace;\n",
       "}\n",
       ".suggestion-warning { \n",
       "font-weight: bold;\n",
       "color: rgb(200, 130, 0);\n",
       "}\n",
       ".suggestion-error { \n",
       "font-weight: bold;\n",
       "color: red;\n",
       "}\n",
       ".suggestion-name {\n",
       "font-weight: bold;\n",
       "}\n",
       "</style><div class=\"suggestion-name\" style=\"clear:both;\">Use list literal</div><div class=\"suggestion-row\" style=\"float: left;\"><div class=\"suggestion-warning\">Found:</div><div class=\"highlight-code\" id=\"haskell\">'a' : 'b' : []</div></div><div class=\"suggestion-row\" style=\"float: left;\"><div class=\"suggestion-warning\">Why Not:</div><div class=\"highlight-code\" id=\"haskell\">['a', 'b']</div></div><div class=\"suggestion-name\" style=\"clear:both;\">Use list literal</div><div class=\"suggestion-row\" style=\"float: left;\"><div class=\"suggestion-warning\">Found:</div><div class=\"highlight-code\" id=\"haskell\">'a' : 'b' : []</div></div><div class=\"suggestion-row\" style=\"float: left;\"><div class=\"suggestion-warning\">Why Not:</div><div class=\"highlight-code\" id=\"haskell\">['a', 'b']</div></div>"
      ],
      "text/plain": [
       "Line 1: Use list literal\n",
       "Found:\n",
       "'a' : 'b' : []\n",
       "Why not:\n",
       "['a', 'b']Line 1: Use list literal\n",
       "Found:\n",
       "'a' : 'b' : []\n",
       "Why not:\n",
       "['a', 'b']"
      ]
     },
     "execution_count": 0,
     "metadata": {
      "tags": [
      ]
     },
     "output_type": "execute_result"
    },
    {
     "data": {
      "text/plain": [
       "\"ab\""
      ]
     },
     "execution_count": 0,
     "metadata": {
      "tags": [
      ]
     },
     "output_type": "execute_result"
    },
    {
     "data": {
      "text/plain": [
       "True"
      ]
     },
     "execution_count": 0,
     "metadata": {
      "tags": [
      ]
     },
     "output_type": "execute_result"
    },
    {
     "data": {
      "text/plain": [
       "True"
      ]
     },
     "execution_count": 0,
     "metadata": {
      "tags": [
      ]
     },
     "output_type": "execute_result"
    },
    {
     "data": {
      "text/plain": [
       "[1,2,3]"
      ]
     },
     "execution_count": 0,
     "metadata": {
      "tags": [
      ]
     },
     "output_type": "execute_result"
    }
   ],
   "source": [
    "'a' : 'b' : []\n",
    "'a' : 'b' : [] == ['a','b']\n",
    "['a','b','c'] == \"abc\"\n",
    "1 : [2,3]"
   ]
  },
  {
   "cell_type": "code",
   "execution_count": 0,
   "metadata": {
    "colab": {
    },
    "colab_type": "code",
    "collapsed": false,
    "id": "yic5cH38CYy6",
    "outputId": "3e1e3379-bec8-4f73-c99a-d38bd17d82a9"
   },
   "outputs": [
    {
     "data": {
      "text/plain": [
       "[2,3,4,5,6]"
      ]
     },
     "execution_count": 0,
     "metadata": {
      "tags": [
      ]
     },
     "output_type": "execute_result"
    },
    {
     "data": {
      "text/plain": [
       "[99,198,297,396,495,594,693,792,891,990]"
      ]
     },
     "execution_count": 0,
     "metadata": {
      "tags": [
      ]
     },
     "output_type": "execute_result"
    },
    {
     "data": {
      "text/plain": [
       "[62,25,7,9]"
      ]
     },
     "execution_count": 0,
     "metadata": {
      "tags": [
      ]
     },
     "output_type": "execute_result"
    }
   ],
   "source": [
    "map (+1) [1..5]\n",
    "map (*99) [1..10]\n",
    "filter (>5) [62,3,25,7,1,9]"
   ]
  },
  {
   "cell_type": "markdown",
   "metadata": {
    "colab_type": "text",
    "collapsed": false,
    "id": "shSuxotBCYy9"
   },
   "source": [
    "***\n",
    "\n",
    "## 2. Desafio"
   ]
  },
  {
   "cell_type": "markdown",
   "metadata": {
    "colab_type": "text",
    "collapsed": false,
    "id": "x0nllkftCYy-"
   },
   "source": [
    "### Ajude Maximus a Vencer a Batalha Através dos Números!\n",
    "\n",
    "Após a morte do Imperador Marcus Aurelius, seu filho Commodus resolveu se livrar do braço direito de seu pai, o General Maximus. Para sua \"sorte\", o general não foi executado; porém, ele foi condenado à escravidão. Nesta nova etapa de sua vida, a única forma do ex-general recuperar sua liberdade é se tornar um gladiador.\n",
    "\n",
    "<img src=\"https://i.imgur.com/5veGnkS.jpg\" style=\"width: 500px;\"/>\n",
    "\n",
    "Dada sua larga experiência em batalhas, Maximus inventa uma estratégia em equipe que lhe garantem a sobrevivência. \n",
    "\n",
    "[![First Battle In The Arena | Gladiator | SceneScreen](https://img.youtube.com/vi/qTj8UlZSsCQ/0.jpg)](https://www.youtube.com/watch?v=qTj8UlZSsCQ)\n",
    "\n",
    "Sua estratégia depende da ajuda de seu fiel amigo, Minimus, que fica dando sugestões a partir da platéia. As sugestões consistem em visualizar a disposição dos inimigos e informar um número que codifica o estado atual da arena. Por algum motivo, eles optaram por restringir as codificações possíveis através de um conceito que ficou conhecido como [Armstrong numbers](https://en.wikipedia.org/wiki/Narcissistic_number). \n",
    "\n",
    "Porém, para o infortúnio de Maximus, Minimus bateu a cabeça durante no caminho até a arena e magicamente não lembra mais quais são os Armstrong numbers. Além do mais, por uma casualidade do destino, ele deixou de entender números romanos e passou a entender apenas números arábicos (atualmente os mais usados). \n",
    "\n",
    "Desta forma, sua tarefa é ajudar Minimus a identificar Armstrong numbers e converter estes para algarismos romanos.\n",
    "\n",
    "Para isto, implemente duas funções. A primeira deve receber um número e retornar se ele é Armstrong ou não. A segunda deve receber um número e converter ele para algarismos romanos."
   ]
  },
  {
   "cell_type": "markdown",
   "metadata": {
    "colab_type": "text",
    "collapsed": false,
    "id": "6-3-t3_nCYy-"
   },
   "source": [
    "### Instruções/regras para o desafio:\n",
    "\n",
    "Desenvolva um programa em Haskell para resolver o desafio acima."
   ]
  },
  {
   "cell_type": "markdown",
   "metadata": {
    "colab_type": "text",
    "collapsed": false,
    "id": "EYINFtZCCYy-"
   },
   "source": [
    "### Solução do grupo\n",
    "\n",
    "Desenvolva a solução do grupo na célula abaixo:"
   ]
  },
  {
   "cell_type": "markdown",
   "metadata": {
    "colab_type": "text",
    "collapsed": false,
    "id": "gN7mTEjXCj2t"
   },
   "source": [
    "Método para checar se é um número de Armstrong"
   ]
  },
  {
   "cell_type": "code",
   "execution_count": 1,
   "metadata": {
    "colab": {
    },
    "colab_type": "code",
    "collapsed": false,
    "id": "LAcm_CD4Ci2d"
   },
   "outputs": [
    {
     "data": {
      "text/plain": [
       "True"
      ]
     },
     "execution_count": 1,
     "metadata": {
     },
     "output_type": "execute_result"
    }
   ],
   "source": [
    "armstrong :: (Integral num) => num -> num\n",
    "armstrong 0 = 0\n",
    "armstrong num = ((num`mod`10)^3) + armstrong(num `div` 10)\n",
    "\n",
    "\n",
    "armstrong' :: (Integral num) => num -> Bool\n",
    "armstrong' num = isArmstrong where\n",
    "    isArmstrong = num == armstrong num\n",
    "\n",
    "print(armstrong' 153)"
   ]
  },
  {
   "cell_type": "markdown",
   "metadata": {
    "colab_type": "text",
    "collapsed": false,
    "id": "lR4-5ue_Cq9A"
   },
   "source": [
    "Método para converter de arábico para romano"
   ]
  },
  {
   "cell_type": "code",
   "execution_count": 2,
   "metadata": {
    "colab": {
    },
    "colab_type": "code",
    "collapsed": false,
    "id": "4J2sB8TDCYy_"
   },
   "outputs": [
    {
     "data": {
      "text/plain": [
       "\"CLIII\""
      ]
     },
     "execution_count": 2,
     "metadata": {
     },
     "output_type": "execute_result"
    }
   ],
   "source": [
    "import Data.List\n",
    "import Data.Maybe\n",
    "\n",
    "number = [1000, 900, 500, 400, 100, 90, 50, 40, 10, 9, 5, 4, 1]\n",
    "\n",
    "romanNumbers = [\"M\", \"CM\", \"D\", \"CD\", \"C\", \"XC\", \"L\", \"XL\", \"X\", \"IX\", \"V\", \"IV\", \"I\"]\n",
    "\n",
    "toRoman 0 = \"\"\n",
    "toRoman n = do\n",
    "    let maxArabic = head $ filter (<=n) number\n",
    "    let index = fromJust $ elemIndex maxArabic number\n",
    "    romanNumbers!!index ++ toRoman (n - maxArabic)\n",
    "print(toRoman 153)"
   ]
  },
  {
   "cell_type": "code",
   "execution_count": 0,
   "metadata": {
    "collapsed": false
   },
   "outputs": [
   ],
   "source": [
   ]
  },
  {
   "cell_type": "code",
   "execution_count": 0,
   "metadata": {
    "collapsed": false
   },
   "outputs": [
   ],
   "source": [
   ]
  },
  {
   "cell_type": "markdown",
   "metadata": {
    "colab_type": "text",
    "collapsed": false,
    "id": "mBlx6VAxCYzB"
   },
   "source": [
    "***\n",
    "\n",
    "## 3. Desafio para os outros grupos\n",
    "\n",
    "Tema da história: **filmes épicos**. \n",
    "\n",
    "Cada grupo deve se basear em um filme e um cenário (como no desafio do professor) e propor um desafio para os outros grupos (no estilo _beginners_!). \n",
    "\n",
    "Ao final, os enunciados devem ser postados no fórum para desafiar os outros grupos (cada desafio deve ser escolhido por no máximo 01 grupo). Para isto, crie um novo tópico no fórum da aula de hoje com o enunciado do desafio. Não esqueça de incluir o título do desafio! "
   ]
  },
  {
   "cell_type": "markdown",
   "metadata": {
    "colab_type": "text",
    "collapsed": false,
    "id": "WKT3Xz9TCYzC"
   },
   "source": [
    "### Descrição do desafio"
   ]
  },
  {
   "cell_type": "markdown",
   "metadata": {
    "colab_type": "text",
    "collapsed": false,
    "id": "tgZUwgCkCYzC"
   },
   "source": [
    "## Desafio: Desabilitar escudos do império\n",
    "\n",
    "Você é um agente infiltrado em uma nave do império. Seu objetivo é desabilitar os escudos da nave, para isso você deve adivinhar a senha do terminal. Você usará seu programa para adivinhar a senha de 3 dígitos do terminal que variam de 0 - 9.\n",
    "\n",
    "Cuidado você deve tentar adivinhar a senha no máximo 500 vezes ou será descoberto. O programa deve enviar uma mensagem indicando de foi possível desabilitar os escudos ou não."
   ]
  },
  {
   "cell_type": "markdown",
   "metadata": {
    "colab_type": "text",
    "collapsed": false,
    "id": "DThp7-7FCYzC"
   },
   "source": [
    "### Solução do desafio"
   ]
  },
  {
   "cell_type": "code",
   "execution_count": 0,
   "metadata": {
    "colab": {
    },
    "colab_type": "code",
    "collapsed": false,
    "id": "qQ9YaG8jCYzD",
    "outputId": "6e9b255f-91e4-481f-dc89-b1e36e5a3adb"
   },
   "outputs": [
    {
     "data": {
      "text/plain": [
       "Terminal hackeado"
      ]
     },
     "execution_count": 0,
     "metadata": {
      "tags": [
      ]
     },
     "output_type": "execute_result"
    }
   ],
   "source": [
    "import System.Random\n",
    "\n",
    "isAttemptSuccessful :: Int -> IO Bool\n",
    "isAttemptSuccessful terminalPassword = do\n",
    "  attempt <- randomRIO (0, 999)\n",
    "  return $ attempt == terminalPassword\n",
    "\n",
    "hackTerminal 0 = putStrLn \"Não conseguiu hacker o terminal\"\n",
    "hackTerminal numberOfAttempts =\n",
    " do\n",
    "  success <- isAttemptSuccessful 324\n",
    "  if success\n",
    "  then putStrLn \"Terminal hackeado\"\n",
    "  else hackTerminal (numberOfAttempts-1)\n",
    "\n",
    "hackTerminal 499"
   ]
  },
  {
   "cell_type": "markdown",
   "metadata": {
    "colab_type": "text",
    "collapsed": false,
    "id": "kne_joa7CYzG"
   },
   "source": [
    "## 4. Desafio de outro grupo: Missão Impossível\n",
    "\n",
    "### Desafio do cofre do 007\n",
    "\n",
    "Você é o ajudante do James Bond e seu objetivo é criar um aparelho para\n",
    "desvendar o código de 4 digitos de um cofre (os 4 digitos vão de 0-5, ex. 0513) o mais rápido possível.\n",
    "\n",
    "Antes de testar em campo você como programador tem que realizar os testes localmente então você deve inserir manualmente\n",
    "uma senha de 4 digitos e esperar que a máquina desvende o mais rápido possível.\n",
    "\n",
    "A máquina deve exibir o tempo que ela gastou, quantas tentativas teve e qual o valor da senha\n",
    "\n",
    "dica:\n",
    "- A máquina não deve tentar mais que 1296 vezes pois se não passou o número total de combinações.\n"
   ]
  },
  {
   "cell_type": "markdown",
   "metadata": {
    "colab_type": "text",
    "collapsed": false,
    "id": "8RZ5jK_yCYzG"
   },
   "source": [
    "### Solução do Desafio"
   ]
  },
  {
   "cell_type": "code",
   "execution_count": 0,
   "metadata": {
    "colab": {
    },
    "colab_type": "code",
    "collapsed": false,
    "id": "rq6SNpBjCYzI",
    "outputId": "84ab5e03-d726-41b4-c462-fb3fe294a949"
   },
   "outputs": [
    {
     "data": {
      "text/plain": [
       "Senha encontrada: 2222\n",
       "Senha do cofre descoberta! - Número de tentativas:1337"
      ]
     },
     "execution_count": 0,
     "metadata": {
      "tags": [
      ]
     },
     "output_type": "execute_result"
    }
   ],
   "source": [
    "import System.Random\n",
    "\n",
    "let testPassword = 2222\n",
    "\n",
    "isAttemptSuccessful :: Int -> IO Bool\n",
    "isAttemptSuccessful terminalPassword = do\n",
    "  dig1 <- randomRIO (0, 5)\n",
    "  dig2 <- randomRIO (0, 5)\n",
    "  dig3 <- randomRIO (0, 5)\n",
    "  dig4 <- randomRIO (0, 5)\n",
    "  let attempt = show dig1 ++ show dig2 ++ show dig3 ++ show dig4\n",
    "  if attempt == show terminalPassword\n",
    "      then do\n",
    "          putStrLn (\"Senha encontrada: \" ++ (attempt))\n",
    "          return True\n",
    "      else return False\n",
    "\n",
    "hackCofre numberOfAttempts =\n",
    " do\n",
    "  success <- isAttemptSuccessful testPassword\n",
    "  if success\n",
    "  then putStrLn (\"Senha do cofre descoberta!\" ++ \" - Número de tentativas:\" ++ (show numberOfAttempts))\n",
    "  else hackCofre (numberOfAttempts+1)\n",
    "\n",
    "hackCofre 0"
   ]
  },
  {
   "cell_type": "code",
   "execution_count": 0,
   "metadata": {
    "colab": {
    },
    "colab_type": "code",
    "collapsed": false,
    "id": "_a83V2caCYzN"
   },
   "outputs": [
   ],
   "source": [
   ]
  },
  {
   "cell_type": "code",
   "execution_count": 0,
   "metadata": {
    "colab": {
    },
    "colab_type": "code",
    "collapsed": false,
    "id": "xeAlunlvCYzP"
   },
   "outputs": [
   ],
   "source": [
   ]
  },
  {
   "cell_type": "code",
   "execution_count": 0,
   "metadata": {
    "colab": {
    },
    "colab_type": "code",
    "collapsed": false,
    "id": "yqP9U8YoCYzX"
   },
   "outputs": [
   ],
   "source": [
   ]
  },
  {
   "cell_type": "code",
   "execution_count": 0,
   "metadata": {
    "colab": {
    },
    "colab_type": "code",
    "collapsed": false,
    "id": "zMkFNRV8CYza"
   },
   "outputs": [
   ],
   "source": [
   ]
  }
 ],
 "metadata": {
  "colab": {
   "name": "haskell_desafio.ipynb",
   "provenance": [
   ]
  },
  "kernelspec": {
   "display_name": "Haskell",
   "language": "haskell",
   "name": "haskell"
  },
  "language_info": {
   "codemirror_mode": "ihaskell",
   "file_extension": ".hs",
   "name": "haskell",
   "version": "8.4.2"
  }
 },
 "nbformat": 4,
 "nbformat_minor": 4
}